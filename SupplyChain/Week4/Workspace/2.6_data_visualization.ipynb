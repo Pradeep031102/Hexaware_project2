{
 "cells": [
  {
   "cell_type": "code",
   "execution_count": 0,
   "metadata": {
    "application/vnd.databricks.v1+cell": {
     "cellMetadata": {},
     "inputWidgets": {},
     "nuid": "16d19958-7991-44fe-ae22-fd29748f514c",
     "showTitle": false,
     "title": ""
    }
   },
   "outputs": [],
   "source": [
    "import matplotlib.pyplot as plt\n",
    "\n",
    "try:\n",
    "    order_count_pd = order_count_df.toPandas()\n",
    "\n",
    "    plt.figure(figsize=(10, 6))\n",
    "    plt.bar(order_count_pd['Customer'], order_count_pd['count'])\n",
    "    plt.xlabel('Customer')\n",
    "    plt.ylabel('Number of Orders')\n",
    "    plt.title('Order Count by Customer')\n",
    "    plt.xticks(rotation=45)\n",
    "    plt.tight_layout()\n",
    "    plt.show()\n",
    "\n",
    "    print(\"Data visualization completed successfully.\")\n",
    "except Exception as e:\n",
    "    print(f\"Error during data visualization: {str(e)}\")"
   ]
  }
 ],
 "metadata": {
  "application/vnd.databricks.v1+notebook": {
   "dashboards": [],
   "environmentMetadata": null,
   "language": "python",
   "notebookMetadata": {
    "pythonIndentUnit": 4
   },
   "notebookName": "2.6_data_visualization",
   "widgets": {}
  }
 },
 "nbformat": 4,
 "nbformat_minor": 0
}

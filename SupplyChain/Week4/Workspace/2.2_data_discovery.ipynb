{
 "cells": [
  {
   "cell_type": "code",
   "execution_count": 0,
   "metadata": {
    "application/vnd.databricks.v1+cell": {
     "cellMetadata": {},
     "inputWidgets": {},
     "nuid": "020927b1-fce3-48ad-9b16-7d34a7bb5c54",
     "showTitle": false,
     "title": ""
    }
   },
   "outputs": [],
   "source": [
    "try:\n",
    "    OrderList_df.show()\n",
    "    carrierrates_df.show()\n",
    "    plantports_df.show()\n",
    "    plantproducts_df.show()\n",
    "    plantcustomers_df.show()\n",
    "    plantcapacities_df.show()\n",
    "    plantcosts_df.show()\n",
    "\n",
    "    print(\"Data discovery completed successfully.\")\n",
    "except Exception as e:\n",
    "    print(f\"Error during data discovery: {str(e)}\")"
   ]
  }
 ],
 "metadata": {
  "application/vnd.databricks.v1+notebook": {
   "dashboards": [],
   "environmentMetadata": null,
   "language": "python",
   "notebookMetadata": {
    "pythonIndentUnit": 4
   },
   "notebookName": "2.2_data_discovery",
   "widgets": {}
  }
 },
 "nbformat": 4,
 "nbformat_minor": 0
}

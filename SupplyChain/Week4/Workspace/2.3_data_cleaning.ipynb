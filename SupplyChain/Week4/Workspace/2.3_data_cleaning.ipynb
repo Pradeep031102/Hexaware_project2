{
 "cells": [
  {
   "cell_type": "code",
   "execution_count": 0,
   "metadata": {
    "application/vnd.databricks.v1+cell": {
     "cellMetadata": {},
     "inputWidgets": {},
     "nuid": "10a87685-b02d-42cf-8f9f-7edfed851c50",
     "showTitle": false,
     "title": ""
    }
   },
   "outputs": [],
   "source": [
    "from pyspark.sql.types import LongType, StructType, StructField, StringType, FloatType, IntegerType, DateType\n",
    "\n",
    "schema = StructType([\n",
    "    StructField(\"OrderID\", StringType(), True),\n",
    "    StructField(\"OrderDate\", DateType(), True),\n",
    "    StructField(\"OriginPort\", StringType(), True),\n",
    "    StructField(\"Carrier\", StringType(), True),\n",
    "    StructField(\"TPT\", StringType(), True),\n",
    "    StructField(\"ServiceLevel\", StringType(), True),\n",
    "    StructField(\"ShipAheadDayCount\", IntegerType(), True),\n",
    "    StructField(\"ShipLateDayCount\", IntegerType(), True),\n",
    "    StructField(\"Customer\", StringType(), True),\n",
    "    StructField(\"ProductID\", IntegerType(), True),\n",
    "    StructField(\"PlantCode\", StringType(), True),\n",
    "    StructField(\"DestinationPort\", StringType(), True),\n",
    "    StructField(\"UnitQuantity\", IntegerType(), True),\n",
    "    StructField(\"Weight\", FloatType(), True)\n",
    "])\n",
    "\n",
    "try:\n",
    "    OrderList_df = spark.read.csv(orderlist_path, header=True, schema=schema)\n",
    "    OrderList_df = OrderList_df.withColumn(\"OrderID\", col(\"OrderID\").cast(LongType()))\n",
    "\n",
    "    print(\"Data cleaning completed successfully.\")\n",
    "except Exception as e:\n",
    "    print(f\"Error during data cleaning: {str(e)}\")"
   ]
  }
 ],
 "metadata": {
  "application/vnd.databricks.v1+notebook": {
   "dashboards": [],
   "environmentMetadata": null,
   "language": "python",
   "notebookMetadata": {
    "pythonIndentUnit": 4
   },
   "notebookName": "2.3_data_cleaning",
   "widgets": {}
  }
 },
 "nbformat": 4,
 "nbformat_minor": 0
}

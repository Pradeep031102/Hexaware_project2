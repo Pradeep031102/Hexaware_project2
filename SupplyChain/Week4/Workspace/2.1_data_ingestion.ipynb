{
 "cells": [
  {
   "cell_type": "code",
   "execution_count": 0,
   "metadata": {
    "application/vnd.databricks.v1+cell": {
     "cellMetadata": {},
     "inputWidgets": {},
     "nuid": "4538541e-e438-47d9-b51b-0c86fdf0a909",
     "showTitle": false,
     "title": ""
    }
   },
   "outputs": [],
   "source": [
    "from pyspark.sql import SparkSession\n",
    "from pyspark.sql.functions import col\n",
    "from delta import *\n",
    "\n",
    "try:\n",
    "    dbutils.fs.cp(\"file:/Workspace/Shared/OrderList.csv\", \"dbfs:/FileStore/OrderList.csv\")\n",
    "    dbutils.fs.cp(\"file:/Workspace/Shared/CarrierRates.csv\", \"dbfs:/FileStore/CarrierRates.csv\")\n",
    "    dbutils.fs.cp(\"file:/Workspace/Shared/PlantPorts.csv\", \"dbfs:/FileStore/PlantPorts.csv\")\n",
    "    dbutils.fs.cp(\"file:/Workspace/Shared/PlantProducts.csv\", \"dbfs:/FileStore/PlantProducts.csv\")\n",
    "    dbutils.fs.cp(\"file:/Workspace/Shared/PlantCustomers.csv\", \"dbfs:/FileStore/PlantCustomers.csv\")\n",
    "    dbutils.fs.cp(\"file:/Workspace/Shared/PlantCapacities.csv\", \"dbfs:/FileStore/PlantCapacities.csv\")\n",
    "    dbutils.fs.cp(\"file:/Workspace/Shared/PlantCosts.csv\", \"dbfs:/FileStore/PlantCosts.csv\")\n",
    "\n",
    "    orderlist_path = 'dbfs:/FileStore/OrderList.csv'\n",
    "    carrierrates_path = 'dbfs:/FileStore/CarrierRates.csv'\n",
    "    plantports_path = 'dbfs:/FileStore/PlantPorts.csv'\n",
    "    plantproducts_path = 'dbfs:/FileStore/PlantProducts.csv'\n",
    "    plantcustomers_path = 'dbfs:/FileStore/PlantCustomers.csv'\n",
    "    plantcapacities_path = 'dbfs:/FileStore/PlantCapacities.csv'\n",
    "    plantcosts_path = 'dbfs:/FileStore/PlantCosts.csv'\n",
    "\n",
    "    OrderList_df = spark.read.csv(orderlist_path, header=True, inferSchema=True)\n",
    "    carrierrates_df = spark.read.csv(carrierrates_path, header=True, inferSchema=True)\n",
    "    plantports_df = spark.read.csv(plantports_path, header=True, inferSchema=True)\n",
    "    plantproducts_df = spark.read.csv(plantproducts_path, header=True, inferSchema=True)\n",
    "    plantcustomers_df = spark.read.csv(plantcustomers_path, header=True, inferSchema=True)\n",
    "    plantcapacities_df = spark.read.csv(plantcapacities_path, header=True, inferSchema=True)\n",
    "    plantcosts_df = spark.read.csv(plantcosts_path, header=True, inferSchema=True)\n",
    "\n",
    "    print(\"Data ingestion completed successfully.\")\n",
    "except Exception as e:\n",
    "    print(f\"Error during data ingestion: {str(e)}\")"
   ]
  }
 ],
 "metadata": {
  "application/vnd.databricks.v1+notebook": {
   "dashboards": [],
   "environmentMetadata": null,
   "language": "python",
   "notebookMetadata": {
    "pythonIndentUnit": 4
   },
   "notebookName": "2.1_data_ingestion",
   "widgets": {}
  }
 },
 "nbformat": 4,
 "nbformat_minor": 0
}

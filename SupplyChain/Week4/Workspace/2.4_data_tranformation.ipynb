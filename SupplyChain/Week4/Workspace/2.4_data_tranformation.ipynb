{
 "cells": [
  {
   "cell_type": "code",
   "execution_count": 0,
   "metadata": {
    "application/vnd.databricks.v1+cell": {
     "cellMetadata": {},
     "inputWidgets": {},
     "nuid": "1f493b75-3e50-46aa-a6b9-66371bfd29c7",
     "showTitle": false,
     "title": ""
    }
   },
   "outputs": [],
   "source": [
    "from pyspark.sql.functions import round, format_number\n",
    "\n",
    "try:\n",
    "    carrierrates_df = carrierrates_df.withColumn(\"MaxWeightQuantity\", round(carrierrates_df[\"MaxWeightQuantity\"], 0)) \\\n",
    "                                      .withColumn(\"Rate\", round(carrierrates_df[\"Rate\"], 2)) \\\n",
    "                                      .withColumn(\"MinWeightQuantity\", round(carrierrates_df[\"MinWeightQuantity\"], 0)) \\\n",
    "                                      .withColumn(\"MinimumCost\", round(carrierrates_df[\"MinimumCost\"], 0))\n",
    "\n",
    "    plantcosts_df = plantcosts_df.withColumn(\"CostPerUnit\", format_number(col(\"CostPerUnit\"), 4).cast(FloatType()))\n",
    "\n",
    "    print(\"Data transformation completed successfully.\")\n",
    "except Exception as e:\n",
    "    print(f\"Error during data transformation: {str(e)}\")"
   ]
  }
 ],
 "metadata": {
  "application/vnd.databricks.v1+notebook": {
   "dashboards": [],
   "environmentMetadata": null,
   "language": "python",
   "notebookMetadata": {
    "pythonIndentUnit": 4
   },
   "notebookName": "2.4_data_tranformation",
   "widgets": {}
  }
 },
 "nbformat": 4,
 "nbformat_minor": 0
}

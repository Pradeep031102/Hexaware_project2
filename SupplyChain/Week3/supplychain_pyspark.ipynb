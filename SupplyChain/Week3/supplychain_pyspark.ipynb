{
  "nbformat": 4,
  "nbformat_minor": 0,
  "metadata": {
    "colab": {
      "provenance": []
    },
    "kernelspec": {
      "name": "python3",
      "display_name": "Python 3"
    },
    "language_info": {
      "name": "python"
    }
  },
  "cells": [
    {
      "cell_type": "code",
      "execution_count": 1,
      "metadata": {
        "colab": {
          "base_uri": "https://localhost:8080/"
        },
        "id": "TZIPBQrSOBea",
        "outputId": "4895008b-871e-4013-de6d-5762fa7e4d41"
      },
      "outputs": [
        {
          "output_type": "stream",
          "name": "stdout",
          "text": [
            "Collecting pyspark==3.2.2\n",
            "  Downloading pyspark-3.2.2.tar.gz (281.5 MB)\n",
            "\u001b[2K     \u001b[90m━━━━━━━━━━━━━━━━━━━━━━━━━━━━━━━━━━━━━━━━\u001b[0m \u001b[32m281.5/281.5 MB\u001b[0m \u001b[31m4.8 MB/s\u001b[0m eta \u001b[36m0:00:00\u001b[0m\n",
            "\u001b[?25h  Preparing metadata (setup.py) ... \u001b[?25l\u001b[?25hdone\n",
            "Collecting py4j==0.10.9.5 (from pyspark==3.2.2)\n",
            "  Downloading py4j-0.10.9.5-py2.py3-none-any.whl.metadata (1.5 kB)\n",
            "Downloading py4j-0.10.9.5-py2.py3-none-any.whl (199 kB)\n",
            "\u001b[2K   \u001b[90m━━━━━━━━━━━━━━━━━━━━━━━━━━━━━━━━━━━━━━━━\u001b[0m \u001b[32m199.7/199.7 kB\u001b[0m \u001b[31m10.4 MB/s\u001b[0m eta \u001b[36m0:00:00\u001b[0m\n",
            "\u001b[?25hBuilding wheels for collected packages: pyspark\n",
            "  Building wheel for pyspark (setup.py) ... \u001b[?25l\u001b[?25hdone\n",
            "  Created wheel for pyspark: filename=pyspark-3.2.2-py2.py3-none-any.whl size=281969432 sha256=3982946552b1101e2eb7b2e8534d16c604c7bfa333ecbe9864087d9dd9bfcec5\n",
            "  Stored in directory: /root/.cache/pip/wheels/99/2c/e7/e06690607c5342affbc132b79732a3a321c83eec58d5617c38\n",
            "Successfully built pyspark\n",
            "Installing collected packages: py4j, pyspark\n",
            "  Attempting uninstall: py4j\n",
            "    Found existing installation: py4j 0.10.9.7\n",
            "    Uninstalling py4j-0.10.9.7:\n",
            "      Successfully uninstalled py4j-0.10.9.7\n",
            "Successfully installed py4j-0.10.9.5 pyspark-3.2.2\n",
            "Collecting delta-spark\n",
            "  Downloading delta_spark-3.2.1-py3-none-any.whl.metadata (1.9 kB)\n",
            "Collecting pyspark<3.6.0,>=3.5.3 (from delta-spark)\n",
            "  Downloading pyspark-3.5.3.tar.gz (317.3 MB)\n",
            "\u001b[2K     \u001b[90m━━━━━━━━━━━━━━━━━━━━━━━━━━━━━━━━━━━━━━━━\u001b[0m \u001b[32m317.3/317.3 MB\u001b[0m \u001b[31m4.4 MB/s\u001b[0m eta \u001b[36m0:00:00\u001b[0m\n",
            "\u001b[?25h  Preparing metadata (setup.py) ... \u001b[?25l\u001b[?25hdone\n",
            "Requirement already satisfied: importlib-metadata>=1.0.0 in /usr/local/lib/python3.10/dist-packages (from delta-spark) (8.5.0)\n",
            "Requirement already satisfied: zipp>=3.20 in /usr/local/lib/python3.10/dist-packages (from importlib-metadata>=1.0.0->delta-spark) (3.20.2)\n",
            "Collecting py4j==0.10.9.7 (from pyspark<3.6.0,>=3.5.3->delta-spark)\n",
            "  Using cached py4j-0.10.9.7-py2.py3-none-any.whl.metadata (1.5 kB)\n",
            "Downloading delta_spark-3.2.1-py3-none-any.whl (21 kB)\n",
            "Using cached py4j-0.10.9.7-py2.py3-none-any.whl (200 kB)\n",
            "Building wheels for collected packages: pyspark\n",
            "  Building wheel for pyspark (setup.py) ... \u001b[?25l\u001b[?25hdone\n",
            "  Created wheel for pyspark: filename=pyspark-3.5.3-py2.py3-none-any.whl size=317840625 sha256=3fdb5d1d52a6170d527b70bfdbce3abc202f33d176c3b4f26e1c9cef82df5d5d\n",
            "  Stored in directory: /root/.cache/pip/wheels/1b/3a/92/28b93e2fbfdbb07509ca4d6f50c5e407f48dce4ddbda69a4ab\n",
            "Successfully built pyspark\n",
            "Installing collected packages: py4j, pyspark, delta-spark\n",
            "  Attempting uninstall: py4j\n",
            "    Found existing installation: py4j 0.10.9.5\n",
            "    Uninstalling py4j-0.10.9.5:\n",
            "      Successfully uninstalled py4j-0.10.9.5\n",
            "  Attempting uninstall: pyspark\n",
            "    Found existing installation: pyspark 3.2.2\n",
            "    Uninstalling pyspark-3.2.2:\n",
            "      Successfully uninstalled pyspark-3.2.2\n",
            "Successfully installed delta-spark-3.2.1 py4j-0.10.9.7 pyspark-3.5.3\n"
          ]
        }
      ],
      "source": [
        "!pip install pyspark==3.2.2\n",
        "!pip install delta-spark"
      ]
    },
    {
      "cell_type": "markdown",
      "source": [
        "CARRIERRATES PATH"
      ],
      "metadata": {
        "id": "AcTlRoR3yfTR"
      }
    },
    {
      "cell_type": "code",
      "source": [
        "from pyspark.sql import SparkSession\n",
        "from pyspark.sql.functions import col\n",
        "from delta import *\n",
        "\n",
        "builder = SparkSession.builder.appName(\"Supply chain\") \\\n",
        "    .config(\"spark.sql.extensions\", \"io.delta.sql.DeltaSparkSessionExtension\") \\\n",
        "    .config(\"spark.sql.catalog.spark_catalog\", \"org.apache.spark.sql.delta.catalog.DeltaCatalog\") \\\n",
        "    .config(\"spark.jars.packages\", \"io.delta:delta-core_2.12:2.0.0\")\n",
        "\n",
        "spark = configure_spark_with_delta_pip(builder).getOrCreate()\n",
        "\n",
        "path = '/content/raw_data/CarrierRates.csv'\n",
        "\n",
        "carrierrates_df = spark.read.csv(path,header = True,inferSchema = True)\n",
        "carrierrates_df.show()"
      ],
      "metadata": {
        "colab": {
          "base_uri": "https://localhost:8080/"
        },
        "id": "zonzUTSlOaVY",
        "outputId": "62ede8d9-3f15-4629-de2d-679e54451432"
      },
      "execution_count": 26,
      "outputs": [
        {
          "output_type": "stream",
          "name": "stdout",
          "text": [
            "+-------+----------+---------------+-----------------+-----------------+-----------+------------------+------------------+---------------+-----------------+-----------+\n",
            "|Carrier|OriginPort|DestinationPort|MinWeightQuantity|MaxWeightQuantity|ServiceCode|       MinimumCost|              Rate|ModeDescription|TransportDayCount|CarrierType|\n",
            "+-------+----------+---------------+-----------------+-----------------+-----------+------------------+------------------+---------------+-----------------+-----------+\n",
            "| V444_6|    PORT08|         PORT09|            250.0|           499.99|        DTD|43.227199999999996|            0.7132|         AIR   |                2|V88888888_0|\n",
            "| V444_6|    PORT08|         PORT09|             65.0|            69.99|        DTD|43.227199999999996|0.7512000000000001|         AIR   |                2|V88888888_0|\n",
            "| V444_6|    PORT08|         PORT09|             60.0|            64.99|        DTD|43.227199999999996|            0.7892|         AIR   |                2|V88888888_0|\n",
            "| V444_6|    PORT08|         PORT09|             50.0|            54.99|        DTD|43.227199999999996|0.8271999999999999|         AIR   |                2|V88888888_0|\n",
            "| V444_6|    PORT08|         PORT09|             35.0|            39.99|        DTD|43.227199999999996|            1.0552|         AIR   |                2|V88888888_0|\n",
            "| V444_6|    PORT08|         PORT09|            100.0|           249.99|        DTD|43.227199999999996|            0.7132|         AIR   |                2|V88888888_0|\n",
            "| V444_6|    PORT08|         PORT09|            500.0|          1999.99|        DTD|43.227199999999996|0.6751999999999999|         AIR   |                2|V88888888_0|\n",
            "| V444_6|    PORT08|         PORT09|             55.0|            59.99|        DTD|43.227199999999996|0.8271999999999999|         AIR   |                2|V88888888_0|\n",
            "| V444_6|    PORT08|         PORT09|             25.0|            29.99|        DTD|43.227199999999996|1.2451999999999999|         AIR   |                2|V88888888_0|\n",
            "| V444_6|    PORT08|         PORT09|             30.0|            34.99|        DTD|43.227199999999996|            1.1312|         AIR   |                2|V88888888_0|\n",
            "| V444_6|    PORT08|         PORT09|             70.0|            99.99|        DTD|43.227199999999996|0.7512000000000001|         AIR   |                2|V88888888_0|\n",
            "| V444_6|    PORT08|         PORT09|             10.0|            14.99|        DTD|43.227199999999996|            1.8272|         AIR   |                2|V88888888_0|\n",
            "| V444_6|    PORT08|         PORT09|              0.0|             4.99|        DTD|43.227199999999996|            1.8272|         AIR   |                2|V88888888_0|\n",
            "| V444_6|    PORT08|         PORT09|              5.0|             9.99|        DTD|43.227199999999996|            1.8272|         AIR   |                2|V88888888_0|\n",
            "| V444_6|    PORT08|         PORT09|           2000.0|         99999.99|        DTD|43.227199999999996|            0.6372|         AIR   |                2|V88888888_0|\n",
            "| V444_6|    PORT08|         PORT09|             45.0|            49.99|        DTD|43.227199999999996|            0.9412|         AIR   |                2|V88888888_0|\n",
            "| V444_6|    PORT08|         PORT09|             20.0|            24.99|        DTD|43.227199999999996|1.3212000000000002|         AIR   |                2|V88888888_0|\n",
            "| V444_6|    PORT08|         PORT09|             40.0|            44.99|        DTD|43.227199999999996|0.9792000000000001|         AIR   |                2|V88888888_0|\n",
            "| V444_6|    PORT08|         PORT09|             15.0|            19.99|        DTD|43.227199999999996|            1.5872|         AIR   |                2|V88888888_0|\n",
            "| V444_6|    PORT10|         PORT09|             65.0|            69.99|        DTD|43.227199999999996|0.7512000000000001|         AIR   |                2|V88888888_0|\n",
            "+-------+----------+---------------+-----------------+-----------------+-----------+------------------+------------------+---------------+-----------------+-----------+\n",
            "only showing top 20 rows\n",
            "\n"
          ]
        }
      ]
    },
    {
      "cell_type": "code",
      "source": [
        "# data cleaning\n",
        "#remove unnecessary whitespaces\n",
        "\n",
        "from pyspark.sql.functions import trim\n",
        "\n",
        "# Apply trim to string columns\n",
        "carrierrates_df = carrierrates_df.withColumn(\"Carrier\", trim(carrierrates_df.Carrier)) \\\n",
        "                     .withColumn(\"OriginPort\", trim(carrierrates_df.OriginPort)) \\\n",
        "                     .withColumn(\"DestinationPort\", trim(carrierrates_df.DestinationPort)) \\\n",
        "                     .withColumn(\"ServiceCode\", trim(carrierrates_df.ServiceCode)) \\\n",
        "                     .withColumn(\"ModeDescription\", trim(carrierrates_df.ModeDescription)) \\\n",
        "                     .withColumn(\"CarrierType\", trim(carrierrates_df.CarrierType))\n",
        "\n",
        "carrierrates_df.show()"
      ],
      "metadata": {
        "colab": {
          "base_uri": "https://localhost:8080/"
        },
        "id": "rLnAWU13Rve2",
        "outputId": "742ec0af-cb3f-4426-f5f1-ac4c513a265f"
      },
      "execution_count": 27,
      "outputs": [
        {
          "output_type": "stream",
          "name": "stdout",
          "text": [
            "+-------+----------+---------------+-----------------+-----------------+-----------+------------------+------------------+---------------+-----------------+-----------+\n",
            "|Carrier|OriginPort|DestinationPort|MinWeightQuantity|MaxWeightQuantity|ServiceCode|       MinimumCost|              Rate|ModeDescription|TransportDayCount|CarrierType|\n",
            "+-------+----------+---------------+-----------------+-----------------+-----------+------------------+------------------+---------------+-----------------+-----------+\n",
            "| V444_6|    PORT08|         PORT09|            250.0|           499.99|        DTD|43.227199999999996|            0.7132|            AIR|                2|V88888888_0|\n",
            "| V444_6|    PORT08|         PORT09|             65.0|            69.99|        DTD|43.227199999999996|0.7512000000000001|            AIR|                2|V88888888_0|\n",
            "| V444_6|    PORT08|         PORT09|             60.0|            64.99|        DTD|43.227199999999996|            0.7892|            AIR|                2|V88888888_0|\n",
            "| V444_6|    PORT08|         PORT09|             50.0|            54.99|        DTD|43.227199999999996|0.8271999999999999|            AIR|                2|V88888888_0|\n",
            "| V444_6|    PORT08|         PORT09|             35.0|            39.99|        DTD|43.227199999999996|            1.0552|            AIR|                2|V88888888_0|\n",
            "| V444_6|    PORT08|         PORT09|            100.0|           249.99|        DTD|43.227199999999996|            0.7132|            AIR|                2|V88888888_0|\n",
            "| V444_6|    PORT08|         PORT09|            500.0|          1999.99|        DTD|43.227199999999996|0.6751999999999999|            AIR|                2|V88888888_0|\n",
            "| V444_6|    PORT08|         PORT09|             55.0|            59.99|        DTD|43.227199999999996|0.8271999999999999|            AIR|                2|V88888888_0|\n",
            "| V444_6|    PORT08|         PORT09|             25.0|            29.99|        DTD|43.227199999999996|1.2451999999999999|            AIR|                2|V88888888_0|\n",
            "| V444_6|    PORT08|         PORT09|             30.0|            34.99|        DTD|43.227199999999996|            1.1312|            AIR|                2|V88888888_0|\n",
            "| V444_6|    PORT08|         PORT09|             70.0|            99.99|        DTD|43.227199999999996|0.7512000000000001|            AIR|                2|V88888888_0|\n",
            "| V444_6|    PORT08|         PORT09|             10.0|            14.99|        DTD|43.227199999999996|            1.8272|            AIR|                2|V88888888_0|\n",
            "| V444_6|    PORT08|         PORT09|              0.0|             4.99|        DTD|43.227199999999996|            1.8272|            AIR|                2|V88888888_0|\n",
            "| V444_6|    PORT08|         PORT09|              5.0|             9.99|        DTD|43.227199999999996|            1.8272|            AIR|                2|V88888888_0|\n",
            "| V444_6|    PORT08|         PORT09|           2000.0|         99999.99|        DTD|43.227199999999996|            0.6372|            AIR|                2|V88888888_0|\n",
            "| V444_6|    PORT08|         PORT09|             45.0|            49.99|        DTD|43.227199999999996|            0.9412|            AIR|                2|V88888888_0|\n",
            "| V444_6|    PORT08|         PORT09|             20.0|            24.99|        DTD|43.227199999999996|1.3212000000000002|            AIR|                2|V88888888_0|\n",
            "| V444_6|    PORT08|         PORT09|             40.0|            44.99|        DTD|43.227199999999996|0.9792000000000001|            AIR|                2|V88888888_0|\n",
            "| V444_6|    PORT08|         PORT09|             15.0|            19.99|        DTD|43.227199999999996|            1.5872|            AIR|                2|V88888888_0|\n",
            "| V444_6|    PORT10|         PORT09|             65.0|            69.99|        DTD|43.227199999999996|0.7512000000000001|            AIR|                2|V88888888_0|\n",
            "+-------+----------+---------------+-----------------+-----------------+-----------+------------------+------------------+---------------+-----------------+-----------+\n",
            "only showing top 20 rows\n",
            "\n"
          ]
        }
      ]
    },
    {
      "cell_type": "code",
      "source": [
        "from pyspark.sql.functions import round\n",
        "\n",
        "# Round the MaxWeightQuantity column to 2 decimal places\n",
        "carrierrates_df = carrierrates_df.withColumn(\"MaxWeightQuantity\", round(carrierrates_df[\"MaxWeightQuantity\"], 0)).withColumn(\"Rate\", round(carrierrates_df[\"Rate\"], 2)).withColumn(\"MinWeightQuantity\", round(carrierrates_df[\"MinWeightQuantity\"], 0)).withColumn(\"MinimumCost\", round(carrierrates_df[\"MinimumCost\"], 0))\n",
        "\n",
        "# Show the updated DataFrame\n",
        "carrierrates_df.show()\n",
        "\n"
      ],
      "metadata": {
        "colab": {
          "base_uri": "https://localhost:8080/"
        },
        "id": "M5TaScygSsOn",
        "outputId": "e36d59e1-58fd-4667-c9b1-14485a1492f7"
      },
      "execution_count": 28,
      "outputs": [
        {
          "output_type": "stream",
          "name": "stdout",
          "text": [
            "+-------+----------+---------------+-----------------+-----------------+-----------+-----------+----+---------------+-----------------+-----------+\n",
            "|Carrier|OriginPort|DestinationPort|MinWeightQuantity|MaxWeightQuantity|ServiceCode|MinimumCost|Rate|ModeDescription|TransportDayCount|CarrierType|\n",
            "+-------+----------+---------------+-----------------+-----------------+-----------+-----------+----+---------------+-----------------+-----------+\n",
            "| V444_6|    PORT08|         PORT09|            250.0|            500.0|        DTD|       43.0|0.71|            AIR|                2|V88888888_0|\n",
            "| V444_6|    PORT08|         PORT09|             65.0|             70.0|        DTD|       43.0|0.75|            AIR|                2|V88888888_0|\n",
            "| V444_6|    PORT08|         PORT09|             60.0|             65.0|        DTD|       43.0|0.79|            AIR|                2|V88888888_0|\n",
            "| V444_6|    PORT08|         PORT09|             50.0|             55.0|        DTD|       43.0|0.83|            AIR|                2|V88888888_0|\n",
            "| V444_6|    PORT08|         PORT09|             35.0|             40.0|        DTD|       43.0|1.06|            AIR|                2|V88888888_0|\n",
            "| V444_6|    PORT08|         PORT09|            100.0|            250.0|        DTD|       43.0|0.71|            AIR|                2|V88888888_0|\n",
            "| V444_6|    PORT08|         PORT09|            500.0|           2000.0|        DTD|       43.0|0.68|            AIR|                2|V88888888_0|\n",
            "| V444_6|    PORT08|         PORT09|             55.0|             60.0|        DTD|       43.0|0.83|            AIR|                2|V88888888_0|\n",
            "| V444_6|    PORT08|         PORT09|             25.0|             30.0|        DTD|       43.0|1.25|            AIR|                2|V88888888_0|\n",
            "| V444_6|    PORT08|         PORT09|             30.0|             35.0|        DTD|       43.0|1.13|            AIR|                2|V88888888_0|\n",
            "| V444_6|    PORT08|         PORT09|             70.0|            100.0|        DTD|       43.0|0.75|            AIR|                2|V88888888_0|\n",
            "| V444_6|    PORT08|         PORT09|             10.0|             15.0|        DTD|       43.0|1.83|            AIR|                2|V88888888_0|\n",
            "| V444_6|    PORT08|         PORT09|              0.0|              5.0|        DTD|       43.0|1.83|            AIR|                2|V88888888_0|\n",
            "| V444_6|    PORT08|         PORT09|              5.0|             10.0|        DTD|       43.0|1.83|            AIR|                2|V88888888_0|\n",
            "| V444_6|    PORT08|         PORT09|           2000.0|         100000.0|        DTD|       43.0|0.64|            AIR|                2|V88888888_0|\n",
            "| V444_6|    PORT08|         PORT09|             45.0|             50.0|        DTD|       43.0|0.94|            AIR|                2|V88888888_0|\n",
            "| V444_6|    PORT08|         PORT09|             20.0|             25.0|        DTD|       43.0|1.32|            AIR|                2|V88888888_0|\n",
            "| V444_6|    PORT08|         PORT09|             40.0|             45.0|        DTD|       43.0|0.98|            AIR|                2|V88888888_0|\n",
            "| V444_6|    PORT08|         PORT09|             15.0|             20.0|        DTD|       43.0|1.59|            AIR|                2|V88888888_0|\n",
            "| V444_6|    PORT10|         PORT09|             65.0|             70.0|        DTD|       43.0|0.75|            AIR|                2|V88888888_0|\n",
            "+-------+----------+---------------+-----------------+-----------------+-----------+-----------+----+---------------+-----------------+-----------+\n",
            "only showing top 20 rows\n",
            "\n"
          ]
        }
      ]
    },
    {
      "cell_type": "code",
      "source": [
        "\n",
        "\n",
        "orderlist_path = '/content/raw_data/OrderList.csv'\n",
        "\n",
        "OrderList_df = spark.read.csv(orderlist_path, header=True, inferSchema=True)\n",
        "\n",
        "OrderList_df.show()"
      ],
      "metadata": {
        "colab": {
          "base_uri": "https://localhost:8080/"
        },
        "id": "NHEylorRjn_I",
        "outputId": "cfdca997-240c-4f1a-acd9-cc05f7f8fb74"
      },
      "execution_count": 29,
      "outputs": [
        {
          "output_type": "stream",
          "name": "stdout",
          "text": [
            "+--------------+----------+----------+-------+---+------------+-----------------+----------------+---------+---------+---------+---------------+------------+-----------------+\n",
            "|       OrderID| OrderDate|OriginPort|Carrier|TPT|ServiceLevel|ShipAheadDayCount|ShipLateDayCount| Customer|ProductID|PlantCode|DestinationPort|UnitQuantity|           Weight|\n",
            "+--------------+----------+----------+-------+---+------------+-----------------+----------------+---------+---------+---------+---------------+------------+-----------------+\n",
            "|1.4472964467E9|2013-05-26|    PORT09|  V44_3|  1|         CRF|                3|               0|V55555_53|  1700106|  PLANT16|         PORT09|         808|             14.3|\n",
            "|1.4471580147E9|2013-05-26|    PORT09|  V44_3|  1|         CRF|                3|               0|V55555_53|  1700106|  PLANT16|         PORT09|        3188|            87.94|\n",
            "|1.4471388987E9|2013-05-26|    PORT09|  V44_3|  1|         CRF|                3|               0|V55555_53|  1700106|  PLANT16|         PORT09|        2331|             61.2|\n",
            "|1.4473635277E9|2013-05-26|    PORT09|  V44_3|  1|         CRF|                3|               0|V55555_53|  1700106|  PLANT16|         PORT09|         847|            16.16|\n",
            "|1.4473639807E9|2013-05-26|    PORT09|  V44_3|  1|         CRF|                3|               0|V55555_53|  1700106|  PLANT16|         PORT09|        2163|            52.34|\n",
            "|1.4473514407E9|2013-05-26|    PORT09|  V44_3|  1|         CRF|                3|               0|V55555_53|  1700106|  PLANT16|         PORT09|        3332|             92.8|\n",
            "|1.4473202357E9|2013-05-26|    PORT09|  V44_3|  1|         CRF|                3|               0|V55555_53|  1700106|  PLANT16|         PORT09|        1782|             46.9|\n",
            "|1.4471580187E9|2013-05-26|    PORT09|  V44_3|  1|         CRF|                3|               0|V55555_53|  1700106|  PLANT16|         PORT09|         427|             2.86|\n",
            "|1.4472193407E9|2013-05-26|    PORT09|  V44_3|  1|         CRF|                3|               0|V55555_53|  1700106|  PLANT16|         PORT09|        1291|             26.6|\n",
            "|1.4473984157E9|2013-05-26|    PORT09|  V44_3|  1|         CRF|                3|               0|V55555_53|  1700106|  PLANT16|         PORT09|        2294|             62.2|\n",
            "|1.4473816787E9|2013-05-26|    PORT09|  V44_3|  1|         CRF|                3|               0|V55555_53|  1700106|  PLANT16|         PORT09|        2766|             75.5|\n",
            "|1.4471707847E9|2013-05-26|    PORT09|  V44_3|  1|         CRF|                3|               0|V55555_53|  1700106|  PLANT16|         PORT09|         798|             14.3|\n",
            "|1.4471550557E9|2013-05-26|    PORT09|  V44_3|  1|         CRF|                3|               0|V55555_53|  1697884|  PLANT16|         PORT09|         739|             73.9|\n",
            "|1.4472572647E9|2013-05-26|    PORT09|  V44_3|  1|         CRF|                3|               0|V55555_53|  1697884|  PLANT16|         PORT09|         280|7.800000000000001|\n",
            "|1.4472409887E9|2013-05-26|    PORT09|  V44_3|  1|         CRF|                3|               0|V55555_53|  1697884|  PLANT16|         PORT09|         574|             59.5|\n",
            "|1.4472572307E9|2013-05-26|    PORT09|  V44_3|  1|         CRF|                3|               0|V55555_53|  1697884|  PLANT16|         PORT09|         556|             52.7|\n",
            "|1.4472606527E9|2013-05-26|    PORT09|  V44_3|  1|         CRF|                3|               0|V55555_53|  1697884|  PLANT16|         PORT09|         544|             58.5|\n",
            "|1.4471393747E9|2013-05-26|    PORT09|  V44_3|  1|         CRF|                3|               0|V55555_53|  1697884|  PLANT16|         PORT09|        1151|            181.7|\n",
            "|1.4473085897E9|2013-05-26|    PORT09|  V44_3|  1|         CRF|                3|               0|V55555_53|  1697884|  PLANT16|         PORT09|        1404|            227.2|\n",
            "|1.4471912707E9|2013-05-26|    PORT09|  V44_3|  1|         CRF|                3|               0|V55555_53|  1697884|  PLANT16|         PORT09|         662|             74.1|\n",
            "+--------------+----------+----------+-------+---+------------+-----------------+----------------+---------+---------+---------+---------------+------------+-----------------+\n",
            "only showing top 20 rows\n",
            "\n"
          ]
        }
      ]
    },
    {
      "cell_type": "code",
      "source": [
        "from pyspark.sql.functions import col\n",
        "from pyspark.sql.types import StructType, StructField, LongType, IntegerType, FloatType, StringType, DateType\n",
        "\n",
        "schema = StructType([\n",
        "    StructField(\"OrderID\", StringType(), True),\n",
        "    StructField(\"OrderDate\", DateType(), True),\n",
        "    StructField(\"OriginPort\", StringType(), True),\n",
        "    StructField(\"Carrier\", StringType(), True),\n",
        "    StructField(\"TPT\", StringType(), True),\n",
        "    StructField(\"ServiceLevel\", StringType(), True),\n",
        "    StructField(\"ShipAheadDayCount\", IntegerType(), True),\n",
        "    StructField(\"ShipLateDayCount\", IntegerType(), True),\n",
        "    StructField(\"Customer\", StringType(), True),\n",
        "    StructField(\"ProductID\", IntegerType(), True),\n",
        "    StructField(\"PlantCode\", StringType(), True),\n",
        "    StructField(\"DestinationPort\", StringType(), True),\n",
        "    StructField(\"UnitQuantity\", IntegerType(), True),\n",
        "    StructField(\"Weight\", FloatType(), True)\n",
        "])\n",
        "\n",
        "OrderList_df = spark.read.csv(orderlist_path, header=True, schema=schema)\n",
        "\n",
        "OrderList_df = OrderList_df.withColumn(\"OrderID\", col(\"OrderID\").cast(LongType()))\n",
        "\n",
        "OrderList_df.show()\n",
        "\n",
        "OrderList_df.printSchema()"
      ],
      "metadata": {
        "colab": {
          "base_uri": "https://localhost:8080/"
        },
        "id": "Yw33dRZrj6ar",
        "outputId": "ecef7d1d-bee0-49ed-ac89-f4afe99c4352"
      },
      "execution_count": 30,
      "outputs": [
        {
          "output_type": "stream",
          "name": "stdout",
          "text": [
            "+----------+----------+----------+-------+---+------------+-----------------+----------------+---------+---------+---------+---------------+------------+------+\n",
            "|   OrderID| OrderDate|OriginPort|Carrier|TPT|ServiceLevel|ShipAheadDayCount|ShipLateDayCount| Customer|ProductID|PlantCode|DestinationPort|UnitQuantity|Weight|\n",
            "+----------+----------+----------+-------+---+------------+-----------------+----------------+---------+---------+---------+---------------+------------+------+\n",
            "|1447296446|2013-05-26|    PORT09|  V44_3|  1|         CRF|                3|               0|V55555_53|  1700106|  PLANT16|         PORT09|         808|  14.3|\n",
            "|1447158014|2013-05-26|    PORT09|  V44_3|  1|         CRF|                3|               0|V55555_53|  1700106|  PLANT16|         PORT09|        3188| 87.94|\n",
            "|1447138898|2013-05-26|    PORT09|  V44_3|  1|         CRF|                3|               0|V55555_53|  1700106|  PLANT16|         PORT09|        2331|  61.2|\n",
            "|1447363527|2013-05-26|    PORT09|  V44_3|  1|         CRF|                3|               0|V55555_53|  1700106|  PLANT16|         PORT09|         847| 16.16|\n",
            "|1447363980|2013-05-26|    PORT09|  V44_3|  1|         CRF|                3|               0|V55555_53|  1700106|  PLANT16|         PORT09|        2163| 52.34|\n",
            "|1447351440|2013-05-26|    PORT09|  V44_3|  1|         CRF|                3|               0|V55555_53|  1700106|  PLANT16|         PORT09|        3332|  92.8|\n",
            "|1447320235|2013-05-26|    PORT09|  V44_3|  1|         CRF|                3|               0|V55555_53|  1700106|  PLANT16|         PORT09|        1782|  46.9|\n",
            "|1447158018|2013-05-26|    PORT09|  V44_3|  1|         CRF|                3|               0|V55555_53|  1700106|  PLANT16|         PORT09|         427|  2.86|\n",
            "|1447219340|2013-05-26|    PORT09|  V44_3|  1|         CRF|                3|               0|V55555_53|  1700106|  PLANT16|         PORT09|        1291|  26.6|\n",
            "|1447398415|2013-05-26|    PORT09|  V44_3|  1|         CRF|                3|               0|V55555_53|  1700106|  PLANT16|         PORT09|        2294|  62.2|\n",
            "|1447381678|2013-05-26|    PORT09|  V44_3|  1|         CRF|                3|               0|V55555_53|  1700106|  PLANT16|         PORT09|        2766|  75.5|\n",
            "|1447170784|2013-05-26|    PORT09|  V44_3|  1|         CRF|                3|               0|V55555_53|  1700106|  PLANT16|         PORT09|         798|  14.3|\n",
            "|1447155055|2013-05-26|    PORT09|  V44_3|  1|         CRF|                3|               0|V55555_53|  1697884|  PLANT16|         PORT09|         739|  73.9|\n",
            "|1447257264|2013-05-26|    PORT09|  V44_3|  1|         CRF|                3|               0|V55555_53|  1697884|  PLANT16|         PORT09|         280|   7.8|\n",
            "|1447240988|2013-05-26|    PORT09|  V44_3|  1|         CRF|                3|               0|V55555_53|  1697884|  PLANT16|         PORT09|         574|  59.5|\n",
            "|1447257230|2013-05-26|    PORT09|  V44_3|  1|         CRF|                3|               0|V55555_53|  1697884|  PLANT16|         PORT09|         556|  52.7|\n",
            "|1447260652|2013-05-26|    PORT09|  V44_3|  1|         CRF|                3|               0|V55555_53|  1697884|  PLANT16|         PORT09|         544|  58.5|\n",
            "|1447139374|2013-05-26|    PORT09|  V44_3|  1|         CRF|                3|               0|V55555_53|  1697884|  PLANT16|         PORT09|        1151| 181.7|\n",
            "|1447308589|2013-05-26|    PORT09|  V44_3|  1|         CRF|                3|               0|V55555_53|  1697884|  PLANT16|         PORT09|        1404| 227.2|\n",
            "|1447191270|2013-05-26|    PORT09|  V44_3|  1|         CRF|                3|               0|V55555_53|  1697884|  PLANT16|         PORT09|         662|  74.1|\n",
            "+----------+----------+----------+-------+---+------------+-----------------+----------------+---------+---------+---------+---------------+------------+------+\n",
            "only showing top 20 rows\n",
            "\n",
            "root\n",
            " |-- OrderID: long (nullable = true)\n",
            " |-- OrderDate: date (nullable = true)\n",
            " |-- OriginPort: string (nullable = true)\n",
            " |-- Carrier: string (nullable = true)\n",
            " |-- TPT: string (nullable = true)\n",
            " |-- ServiceLevel: string (nullable = true)\n",
            " |-- ShipAheadDayCount: integer (nullable = true)\n",
            " |-- ShipLateDayCount: integer (nullable = true)\n",
            " |-- Customer: string (nullable = true)\n",
            " |-- ProductID: integer (nullable = true)\n",
            " |-- PlantCode: string (nullable = true)\n",
            " |-- DestinationPort: string (nullable = true)\n",
            " |-- UnitQuantity: integer (nullable = true)\n",
            " |-- Weight: float (nullable = true)\n",
            "\n"
          ]
        }
      ]
    },
    {
      "cell_type": "code",
      "source": [
        "\n",
        "path = '/content/raw_data/PlantCapacities.csv'\n",
        "plantcapacities_df = spark.read.csv(path,header = True,inferSchema = True)\n",
        "plantcapacities_df.show()\n",
        "\n",
        "plantcapacities_df.printSchema()"
      ],
      "metadata": {
        "colab": {
          "base_uri": "https://localhost:8080/"
        },
        "id": "LdPum-dmZw1j",
        "outputId": "0b734e11-8f9c-4c30-f1f6-a43cccf8ac3b"
      },
      "execution_count": 31,
      "outputs": [
        {
          "output_type": "stream",
          "name": "stdout",
          "text": [
            "+---------+-------------+\n",
            "|PlantCode|DailyCapacity|\n",
            "+---------+-------------+\n",
            "|  PLANT15|           11|\n",
            "|  PLANT17|            8|\n",
            "|  PLANT18|          111|\n",
            "|  PLANT05|          385|\n",
            "|  PLANT02|          138|\n",
            "|  PLANT01|         1070|\n",
            "|  PLANT06|           49|\n",
            "|  PLANT10|          118|\n",
            "|  PLANT07|          265|\n",
            "|  PLANT14|          549|\n",
            "|  PLANT16|          457|\n",
            "|  PLANT12|          209|\n",
            "|  PLANT11|          332|\n",
            "|  PLANT09|           11|\n",
            "|  PLANT03|         1013|\n",
            "|  PLANT13|          490|\n",
            "|  PLANT19|            7|\n",
            "|  PLANT08|           14|\n",
            "|  PLANT04|          554|\n",
            "+---------+-------------+\n",
            "\n",
            "root\n",
            " |-- PlantCode: string (nullable = true)\n",
            " |-- DailyCapacity: integer (nullable = true)\n",
            "\n"
          ]
        }
      ]
    },
    {
      "cell_type": "code",
      "source": [
        "\n",
        "path = '/content/raw_data/PlantCosts.csv'\n",
        "plantcost_df = spark.read.csv(path,header = True,inferSchema = True)\n",
        "plantcost_df = plantcost_df.withColumn(\"CostPerUnit\", round(plantcost_df[\"CostPerUnit\"], 4))\n",
        "plantcost_df.show()\n",
        "\n",
        "plantcost_df.printSchema()"
      ],
      "metadata": {
        "colab": {
          "base_uri": "https://localhost:8080/"
        },
        "id": "nnvLC3zFaAPL",
        "outputId": "61548a87-e848-4961-82f8-407be763caee"
      },
      "execution_count": 32,
      "outputs": [
        {
          "output_type": "stream",
          "name": "stdout",
          "text": [
            "+---------+-----------+\n",
            "|PlantCode|CostPerUnit|\n",
            "+---------+-----------+\n",
            "|  PLANT15|     1.4151|\n",
            "|  PLANT17|     0.4289|\n",
            "|  PLANT18|     2.0363|\n",
            "|  PLANT05|     0.4881|\n",
            "|  PLANT02|     0.4775|\n",
            "|  PLANT01|      0.567|\n",
            "|  PLANT06|     0.5541|\n",
            "|  PLANT10|     0.4936|\n",
            "|  PLANT07|     0.3714|\n",
            "|  PLANT14|     0.6343|\n",
            "|  PLANT16|     1.9198|\n",
            "|  PLANT12|     0.7731|\n",
            "|  PLANT11|     0.5552|\n",
            "|  PLANT09|     0.4651|\n",
            "|  PLANT03|     0.5175|\n",
            "|  PLANT13|     0.4697|\n",
            "|  PLANT19|     0.6398|\n",
            "|  PLANT08|     0.5229|\n",
            "|  PLANT04|     0.4285|\n",
            "+---------+-----------+\n",
            "\n",
            "root\n",
            " |-- PlantCode: string (nullable = true)\n",
            " |-- CostPerUnit: double (nullable = true)\n",
            "\n"
          ]
        }
      ]
    },
    {
      "cell_type": "code",
      "source": [
        "\n",
        "path = '/content/raw_data/PlantCustomers.csv'\n",
        "plantcustomers_df = spark.read.csv(path,header = True,inferSchema = True)\n",
        "plantcustomers_df.show()\n",
        "\n",
        "plantcustomers_df.printSchema()"
      ],
      "metadata": {
        "colab": {
          "base_uri": "https://localhost:8080/"
        },
        "id": "m8ybmk7jawQ-",
        "outputId": "1f2c646c-7807-4594-d3cb-47a073db843c"
      },
      "execution_count": 33,
      "outputs": [
        {
          "output_type": "stream",
          "name": "stdout",
          "text": [
            "+---------+--------------------+\n",
            "|PlantCode|            Customer|\n",
            "+---------+--------------------+\n",
            "|  PLANT02|   V5555555555555_16|\n",
            "|  PLANT02| V555555555555555_29|\n",
            "|  PLANT02|        V555555555_3|\n",
            "|  PLANT02|   V55555555555555_8|\n",
            "|  PLANT02|         V55555555_9|\n",
            "|  PLANT02|           V55555_10|\n",
            "|  PLANT02|         V55555555_5|\n",
            "|  PLANT06| V555555555555555_18|\n",
            "|  PLANT06|           V55555_10|\n",
            "|  PLANT10| V555555555555555_29|\n",
            "|  PLANT10|          V555555_34|\n",
            "|  PLANT10|V5555555555555555...|\n",
            "|  PLANT10|           V55555_10|\n",
            "|  PLANT11|V5555555555555555...|\n",
            "+---------+--------------------+\n",
            "\n",
            "root\n",
            " |-- PlantCode: string (nullable = true)\n",
            " |-- Customer: string (nullable = true)\n",
            "\n"
          ]
        }
      ]
    },
    {
      "cell_type": "code",
      "source": [
        "\n",
        "path = '/content/raw_data/PlantPorts.csv'\n",
        "plantports_df = spark.read.csv(path,header = True,inferSchema = True)\n",
        "plantports_df.show()\n",
        "\n",
        "plantports_df.printSchema()"
      ],
      "metadata": {
        "colab": {
          "base_uri": "https://localhost:8080/"
        },
        "id": "Al9GWeuma74R",
        "outputId": "52170a0c-d572-4d3a-a1c0-be9fbf13ae71"
      },
      "execution_count": 34,
      "outputs": [
        {
          "output_type": "stream",
          "name": "stdout",
          "text": [
            "+---------+------+\n",
            "|PlantCode|  Port|\n",
            "+---------+------+\n",
            "|  PLANT01|PORT01|\n",
            "|  PLANT01|PORT02|\n",
            "|  PLANT02|PORT03|\n",
            "|  PLANT03|PORT04|\n",
            "|  PLANT04|PORT05|\n",
            "|  PLANT05|PORT06|\n",
            "|  PLANT06|PORT06|\n",
            "|  PLANT07|PORT01|\n",
            "|  PLANT07|PORT02|\n",
            "|  PLANT08|PORT04|\n",
            "|  PLANT09|PORT04|\n",
            "|  PLANT10|PORT01|\n",
            "|  PLANT10|PORT02|\n",
            "|  PLANT11|PORT04|\n",
            "|  PLANT12|PORT04|\n",
            "|  PLANT13|PORT04|\n",
            "|  PLANT14|PORT07|\n",
            "|  PLANT15|PORT08|\n",
            "|  PLANT16|PORT09|\n",
            "|  PLANT17|PORT10|\n",
            "+---------+------+\n",
            "only showing top 20 rows\n",
            "\n",
            "root\n",
            " |-- PlantCode: string (nullable = true)\n",
            " |-- Port: string (nullable = true)\n",
            "\n"
          ]
        }
      ]
    },
    {
      "cell_type": "code",
      "source": [
        "\n",
        "path = '/content/raw_data/PlantProducts.csv'\n",
        "plantproducts_df = spark.read.csv(path,header = True,inferSchema = True)\n",
        "plantproducts_df.show()\n",
        "\n",
        "plantproducts_df.printSchema()"
      ],
      "metadata": {
        "colab": {
          "base_uri": "https://localhost:8080/"
        },
        "id": "bk4gnhK3bATK",
        "outputId": "0a34b354-21d6-46df-8908-756e9136b9bb"
      },
      "execution_count": 35,
      "outputs": [
        {
          "output_type": "stream",
          "name": "stdout",
          "text": [
            "+---------+---------+\n",
            "|PlantCode|ProductID|\n",
            "+---------+---------+\n",
            "|  PLANT15|  1698815|\n",
            "|  PLANT17|  1664419|\n",
            "|  PLANT17|  1664426|\n",
            "|  PLANT17|  1672826|\n",
            "|  PLANT17|  1674916|\n",
            "|  PLANT17|  1674918|\n",
            "|  PLANT17|  1675507|\n",
            "|  PLANT17|  1676151|\n",
            "|  PLANT17|  1676152|\n",
            "|  PLANT17|  1677864|\n",
            "|  PLANT17|  1677865|\n",
            "|  PLANT17|  1679124|\n",
            "|  PLANT17|  1685369|\n",
            "|  PLANT17|  1685370|\n",
            "|  PLANT17|  1685378|\n",
            "|  PLANT17|  1685979|\n",
            "|  PLANT17|  1691969|\n",
            "|  PLANT17|  1694139|\n",
            "|  PLANT17|  1694217|\n",
            "|  PLANT17|  1696107|\n",
            "+---------+---------+\n",
            "only showing top 20 rows\n",
            "\n",
            "root\n",
            " |-- PlantCode: string (nullable = true)\n",
            " |-- ProductID: integer (nullable = true)\n",
            "\n"
          ]
        }
      ]
    },
    {
      "cell_type": "code",
      "source": [
        "OrderList_df.write.mode(\"overwrite\").parquet(\"/content/transformed_data/orderList.parquet\")\n",
        "carrierrates_df.write.mode(\"overwrite\").parquet(\"/content/transformed_data/carrierrates.parquet\")\n",
        "plantports_df.write.mode(\"overwrite\").parquet(\"/content/transformed_data/plantports.parquet\")\n",
        "plantproducts_df.write.mode(\"overwrite\").parquet(\"/content/transformed_data/plantproducts.parquet\")\n",
        "plantcustomers_df.write.mode(\"overwrite\").parquet(\"/content/transformed_data/plantcustomers.parquet\")\n",
        "plantcapacities_df.write.mode(\"overwrite\").parquet(\"/content/transformed_data/plantcapacities.parquet\")\n",
        "plantcost_df.write.mode(\"overwrite\").parquet(\"/content/transformed_data/plantcost.parquet\")\n"
      ],
      "metadata": {
        "id": "adi1wQsTfP05"
      },
      "execution_count": 36,
      "outputs": []
    },
    {
      "cell_type": "code",
      "source": [
        "orderList_parquet = spark.read.parquet(\"/content/transformed_data/orderList.parquet\").show()\n",
        "carrierrates_parquet = spark.read.parquet(\"/content/transformed_data/carrierrates.parquet\").show()\n",
        "plantports_parquet = spark.read.parquet(\"/content/transformed_data/plantports.parquet\").show()\n",
        "plantproducts_parquet = spark.read.parquet(\"/content/transformed_data/plantproducts.parquet\").show()\n",
        "plantcustomers_parquet = spark.read.parquet(\"/content/transformed_data/plantcustomers.parquet\").show()\n",
        "plantcapacities_parquet = spark.read.parquet(\"/content/transformed_data/plantcapacities.parquet\").show()\n",
        "plantcost_parquet = spark.read.parquet(\"/content/transformed_data/plantcost.parquet\").show()"
      ],
      "metadata": {
        "colab": {
          "base_uri": "https://localhost:8080/"
        },
        "id": "T--kxJcPiGn2",
        "outputId": "8f2d20fc-e410-4b9e-b1c3-31aa99c38485"
      },
      "execution_count": 37,
      "outputs": [
        {
          "output_type": "stream",
          "name": "stdout",
          "text": [
            "+----------+----------+----------+-------+---+------------+-----------------+----------------+---------+---------+---------+---------------+------------+------+\n",
            "|   OrderID| OrderDate|OriginPort|Carrier|TPT|ServiceLevel|ShipAheadDayCount|ShipLateDayCount| Customer|ProductID|PlantCode|DestinationPort|UnitQuantity|Weight|\n",
            "+----------+----------+----------+-------+---+------------+-----------------+----------------+---------+---------+---------+---------------+------------+------+\n",
            "|1447296446|2013-05-26|    PORT09|  V44_3|  1|         CRF|                3|               0|V55555_53|  1700106|  PLANT16|         PORT09|         808|  14.3|\n",
            "|1447158014|2013-05-26|    PORT09|  V44_3|  1|         CRF|                3|               0|V55555_53|  1700106|  PLANT16|         PORT09|        3188| 87.94|\n",
            "|1447138898|2013-05-26|    PORT09|  V44_3|  1|         CRF|                3|               0|V55555_53|  1700106|  PLANT16|         PORT09|        2331|  61.2|\n",
            "|1447363527|2013-05-26|    PORT09|  V44_3|  1|         CRF|                3|               0|V55555_53|  1700106|  PLANT16|         PORT09|         847| 16.16|\n",
            "|1447363980|2013-05-26|    PORT09|  V44_3|  1|         CRF|                3|               0|V55555_53|  1700106|  PLANT16|         PORT09|        2163| 52.34|\n",
            "|1447351440|2013-05-26|    PORT09|  V44_3|  1|         CRF|                3|               0|V55555_53|  1700106|  PLANT16|         PORT09|        3332|  92.8|\n",
            "|1447320235|2013-05-26|    PORT09|  V44_3|  1|         CRF|                3|               0|V55555_53|  1700106|  PLANT16|         PORT09|        1782|  46.9|\n",
            "|1447158018|2013-05-26|    PORT09|  V44_3|  1|         CRF|                3|               0|V55555_53|  1700106|  PLANT16|         PORT09|         427|  2.86|\n",
            "|1447219340|2013-05-26|    PORT09|  V44_3|  1|         CRF|                3|               0|V55555_53|  1700106|  PLANT16|         PORT09|        1291|  26.6|\n",
            "|1447398415|2013-05-26|    PORT09|  V44_3|  1|         CRF|                3|               0|V55555_53|  1700106|  PLANT16|         PORT09|        2294|  62.2|\n",
            "|1447381678|2013-05-26|    PORT09|  V44_3|  1|         CRF|                3|               0|V55555_53|  1700106|  PLANT16|         PORT09|        2766|  75.5|\n",
            "|1447170784|2013-05-26|    PORT09|  V44_3|  1|         CRF|                3|               0|V55555_53|  1700106|  PLANT16|         PORT09|         798|  14.3|\n",
            "|1447155055|2013-05-26|    PORT09|  V44_3|  1|         CRF|                3|               0|V55555_53|  1697884|  PLANT16|         PORT09|         739|  73.9|\n",
            "|1447257264|2013-05-26|    PORT09|  V44_3|  1|         CRF|                3|               0|V55555_53|  1697884|  PLANT16|         PORT09|         280|   7.8|\n",
            "|1447240988|2013-05-26|    PORT09|  V44_3|  1|         CRF|                3|               0|V55555_53|  1697884|  PLANT16|         PORT09|         574|  59.5|\n",
            "|1447257230|2013-05-26|    PORT09|  V44_3|  1|         CRF|                3|               0|V55555_53|  1697884|  PLANT16|         PORT09|         556|  52.7|\n",
            "|1447260652|2013-05-26|    PORT09|  V44_3|  1|         CRF|                3|               0|V55555_53|  1697884|  PLANT16|         PORT09|         544|  58.5|\n",
            "|1447139374|2013-05-26|    PORT09|  V44_3|  1|         CRF|                3|               0|V55555_53|  1697884|  PLANT16|         PORT09|        1151| 181.7|\n",
            "|1447308589|2013-05-26|    PORT09|  V44_3|  1|         CRF|                3|               0|V55555_53|  1697884|  PLANT16|         PORT09|        1404| 227.2|\n",
            "|1447191270|2013-05-26|    PORT09|  V44_3|  1|         CRF|                3|               0|V55555_53|  1697884|  PLANT16|         PORT09|         662|  74.1|\n",
            "+----------+----------+----------+-------+---+------------+-----------------+----------------+---------+---------+---------+---------------+------------+------+\n",
            "only showing top 20 rows\n",
            "\n",
            "+-------+----------+---------------+-----------------+-----------------+-----------+-----------+----+---------------+-----------------+-----------+\n",
            "|Carrier|OriginPort|DestinationPort|MinWeightQuantity|MaxWeightQuantity|ServiceCode|MinimumCost|Rate|ModeDescription|TransportDayCount|CarrierType|\n",
            "+-------+----------+---------------+-----------------+-----------------+-----------+-----------+----+---------------+-----------------+-----------+\n",
            "| V444_6|    PORT08|         PORT09|            250.0|            500.0|        DTD|       43.0|0.71|            AIR|                2|V88888888_0|\n",
            "| V444_6|    PORT08|         PORT09|             65.0|             70.0|        DTD|       43.0|0.75|            AIR|                2|V88888888_0|\n",
            "| V444_6|    PORT08|         PORT09|             60.0|             65.0|        DTD|       43.0|0.79|            AIR|                2|V88888888_0|\n",
            "| V444_6|    PORT08|         PORT09|             50.0|             55.0|        DTD|       43.0|0.83|            AIR|                2|V88888888_0|\n",
            "| V444_6|    PORT08|         PORT09|             35.0|             40.0|        DTD|       43.0|1.06|            AIR|                2|V88888888_0|\n",
            "| V444_6|    PORT08|         PORT09|            100.0|            250.0|        DTD|       43.0|0.71|            AIR|                2|V88888888_0|\n",
            "| V444_6|    PORT08|         PORT09|            500.0|           2000.0|        DTD|       43.0|0.68|            AIR|                2|V88888888_0|\n",
            "| V444_6|    PORT08|         PORT09|             55.0|             60.0|        DTD|       43.0|0.83|            AIR|                2|V88888888_0|\n",
            "| V444_6|    PORT08|         PORT09|             25.0|             30.0|        DTD|       43.0|1.25|            AIR|                2|V88888888_0|\n",
            "| V444_6|    PORT08|         PORT09|             30.0|             35.0|        DTD|       43.0|1.13|            AIR|                2|V88888888_0|\n",
            "| V444_6|    PORT08|         PORT09|             70.0|            100.0|        DTD|       43.0|0.75|            AIR|                2|V88888888_0|\n",
            "| V444_6|    PORT08|         PORT09|             10.0|             15.0|        DTD|       43.0|1.83|            AIR|                2|V88888888_0|\n",
            "| V444_6|    PORT08|         PORT09|              0.0|              5.0|        DTD|       43.0|1.83|            AIR|                2|V88888888_0|\n",
            "| V444_6|    PORT08|         PORT09|              5.0|             10.0|        DTD|       43.0|1.83|            AIR|                2|V88888888_0|\n",
            "| V444_6|    PORT08|         PORT09|           2000.0|         100000.0|        DTD|       43.0|0.64|            AIR|                2|V88888888_0|\n",
            "| V444_6|    PORT08|         PORT09|             45.0|             50.0|        DTD|       43.0|0.94|            AIR|                2|V88888888_0|\n",
            "| V444_6|    PORT08|         PORT09|             20.0|             25.0|        DTD|       43.0|1.32|            AIR|                2|V88888888_0|\n",
            "| V444_6|    PORT08|         PORT09|             40.0|             45.0|        DTD|       43.0|0.98|            AIR|                2|V88888888_0|\n",
            "| V444_6|    PORT08|         PORT09|             15.0|             20.0|        DTD|       43.0|1.59|            AIR|                2|V88888888_0|\n",
            "| V444_6|    PORT10|         PORT09|             65.0|             70.0|        DTD|       43.0|0.75|            AIR|                2|V88888888_0|\n",
            "+-------+----------+---------------+-----------------+-----------------+-----------+-----------+----+---------------+-----------------+-----------+\n",
            "only showing top 20 rows\n",
            "\n",
            "+---------+------+\n",
            "|PlantCode|  Port|\n",
            "+---------+------+\n",
            "|  PLANT01|PORT01|\n",
            "|  PLANT01|PORT02|\n",
            "|  PLANT02|PORT03|\n",
            "|  PLANT03|PORT04|\n",
            "|  PLANT04|PORT05|\n",
            "|  PLANT05|PORT06|\n",
            "|  PLANT06|PORT06|\n",
            "|  PLANT07|PORT01|\n",
            "|  PLANT07|PORT02|\n",
            "|  PLANT08|PORT04|\n",
            "|  PLANT09|PORT04|\n",
            "|  PLANT10|PORT01|\n",
            "|  PLANT10|PORT02|\n",
            "|  PLANT11|PORT04|\n",
            "|  PLANT12|PORT04|\n",
            "|  PLANT13|PORT04|\n",
            "|  PLANT14|PORT07|\n",
            "|  PLANT15|PORT08|\n",
            "|  PLANT16|PORT09|\n",
            "|  PLANT17|PORT10|\n",
            "+---------+------+\n",
            "only showing top 20 rows\n",
            "\n",
            "+---------+---------+\n",
            "|PlantCode|ProductID|\n",
            "+---------+---------+\n",
            "|  PLANT15|  1698815|\n",
            "|  PLANT17|  1664419|\n",
            "|  PLANT17|  1664426|\n",
            "|  PLANT17|  1672826|\n",
            "|  PLANT17|  1674916|\n",
            "|  PLANT17|  1674918|\n",
            "|  PLANT17|  1675507|\n",
            "|  PLANT17|  1676151|\n",
            "|  PLANT17|  1676152|\n",
            "|  PLANT17|  1677864|\n",
            "|  PLANT17|  1677865|\n",
            "|  PLANT17|  1679124|\n",
            "|  PLANT17|  1685369|\n",
            "|  PLANT17|  1685370|\n",
            "|  PLANT17|  1685378|\n",
            "|  PLANT17|  1685979|\n",
            "|  PLANT17|  1691969|\n",
            "|  PLANT17|  1694139|\n",
            "|  PLANT17|  1694217|\n",
            "|  PLANT17|  1696107|\n",
            "+---------+---------+\n",
            "only showing top 20 rows\n",
            "\n",
            "+---------+--------------------+\n",
            "|PlantCode|            Customer|\n",
            "+---------+--------------------+\n",
            "|  PLANT02|   V5555555555555_16|\n",
            "|  PLANT02| V555555555555555_29|\n",
            "|  PLANT02|        V555555555_3|\n",
            "|  PLANT02|   V55555555555555_8|\n",
            "|  PLANT02|         V55555555_9|\n",
            "|  PLANT02|           V55555_10|\n",
            "|  PLANT02|         V55555555_5|\n",
            "|  PLANT06| V555555555555555_18|\n",
            "|  PLANT06|           V55555_10|\n",
            "|  PLANT10| V555555555555555_29|\n",
            "|  PLANT10|          V555555_34|\n",
            "|  PLANT10|V5555555555555555...|\n",
            "|  PLANT10|           V55555_10|\n",
            "|  PLANT11|V5555555555555555...|\n",
            "+---------+--------------------+\n",
            "\n",
            "+---------+-------------+\n",
            "|PlantCode|DailyCapacity|\n",
            "+---------+-------------+\n",
            "|  PLANT15|           11|\n",
            "|  PLANT17|            8|\n",
            "|  PLANT18|          111|\n",
            "|  PLANT05|          385|\n",
            "|  PLANT02|          138|\n",
            "|  PLANT01|         1070|\n",
            "|  PLANT06|           49|\n",
            "|  PLANT10|          118|\n",
            "|  PLANT07|          265|\n",
            "|  PLANT14|          549|\n",
            "|  PLANT16|          457|\n",
            "|  PLANT12|          209|\n",
            "|  PLANT11|          332|\n",
            "|  PLANT09|           11|\n",
            "|  PLANT03|         1013|\n",
            "|  PLANT13|          490|\n",
            "|  PLANT19|            7|\n",
            "|  PLANT08|           14|\n",
            "|  PLANT04|          554|\n",
            "+---------+-------------+\n",
            "\n",
            "+---------+-----------+\n",
            "|PlantCode|CostPerUnit|\n",
            "+---------+-----------+\n",
            "|  PLANT15|     1.4151|\n",
            "|  PLANT17|     0.4289|\n",
            "|  PLANT18|     2.0363|\n",
            "|  PLANT05|     0.4881|\n",
            "|  PLANT02|     0.4775|\n",
            "|  PLANT01|      0.567|\n",
            "|  PLANT06|     0.5541|\n",
            "|  PLANT10|     0.4936|\n",
            "|  PLANT07|     0.3714|\n",
            "|  PLANT14|     0.6343|\n",
            "|  PLANT16|     1.9198|\n",
            "|  PLANT12|     0.7731|\n",
            "|  PLANT11|     0.5552|\n",
            "|  PLANT09|     0.4651|\n",
            "|  PLANT03|     0.5175|\n",
            "|  PLANT13|     0.4697|\n",
            "|  PLANT19|     0.6398|\n",
            "|  PLANT08|     0.5229|\n",
            "|  PLANT04|     0.4285|\n",
            "+---------+-----------+\n",
            "\n"
          ]
        }
      ]
    },
    {
      "cell_type": "code",
      "source": [
        "# delta format\n",
        "\n",
        "delta_path = '/content/transformed_data/carrierdata.delta'\n",
        "carrierrates_df.write.format(\"delta\").save(delta_path)\n",
        "\n",
        "delta_df = spark.read.format(\"delta\").load(delta_path)\n",
        "delta_df.show()\n"
      ],
      "metadata": {
        "colab": {
          "base_uri": "https://localhost:8080/"
        },
        "id": "fW_fZ5cq6MhM",
        "outputId": "87bb849b-d98d-44fc-88ef-6e26e01348d2"
      },
      "execution_count": 38,
      "outputs": [
        {
          "output_type": "stream",
          "name": "stdout",
          "text": [
            "+-------+----------+---------------+-----------------+-----------------+-----------+-----------+----+---------------+-----------------+-----------+\n",
            "|Carrier|OriginPort|DestinationPort|MinWeightQuantity|MaxWeightQuantity|ServiceCode|MinimumCost|Rate|ModeDescription|TransportDayCount|CarrierType|\n",
            "+-------+----------+---------------+-----------------+-----------------+-----------+-----------+----+---------------+-----------------+-----------+\n",
            "| V444_6|    PORT08|         PORT09|            250.0|            500.0|        DTD|       43.0|0.71|            AIR|                2|V88888888_0|\n",
            "| V444_6|    PORT08|         PORT09|             65.0|             70.0|        DTD|       43.0|0.75|            AIR|                2|V88888888_0|\n",
            "| V444_6|    PORT08|         PORT09|             60.0|             65.0|        DTD|       43.0|0.79|            AIR|                2|V88888888_0|\n",
            "| V444_6|    PORT08|         PORT09|             50.0|             55.0|        DTD|       43.0|0.83|            AIR|                2|V88888888_0|\n",
            "| V444_6|    PORT08|         PORT09|             35.0|             40.0|        DTD|       43.0|1.06|            AIR|                2|V88888888_0|\n",
            "| V444_6|    PORT08|         PORT09|            100.0|            250.0|        DTD|       43.0|0.71|            AIR|                2|V88888888_0|\n",
            "| V444_6|    PORT08|         PORT09|            500.0|           2000.0|        DTD|       43.0|0.68|            AIR|                2|V88888888_0|\n",
            "| V444_6|    PORT08|         PORT09|             55.0|             60.0|        DTD|       43.0|0.83|            AIR|                2|V88888888_0|\n",
            "| V444_6|    PORT08|         PORT09|             25.0|             30.0|        DTD|       43.0|1.25|            AIR|                2|V88888888_0|\n",
            "| V444_6|    PORT08|         PORT09|             30.0|             35.0|        DTD|       43.0|1.13|            AIR|                2|V88888888_0|\n",
            "| V444_6|    PORT08|         PORT09|             70.0|            100.0|        DTD|       43.0|0.75|            AIR|                2|V88888888_0|\n",
            "| V444_6|    PORT08|         PORT09|             10.0|             15.0|        DTD|       43.0|1.83|            AIR|                2|V88888888_0|\n",
            "| V444_6|    PORT08|         PORT09|              0.0|              5.0|        DTD|       43.0|1.83|            AIR|                2|V88888888_0|\n",
            "| V444_6|    PORT08|         PORT09|              5.0|             10.0|        DTD|       43.0|1.83|            AIR|                2|V88888888_0|\n",
            "| V444_6|    PORT08|         PORT09|           2000.0|         100000.0|        DTD|       43.0|0.64|            AIR|                2|V88888888_0|\n",
            "| V444_6|    PORT08|         PORT09|             45.0|             50.0|        DTD|       43.0|0.94|            AIR|                2|V88888888_0|\n",
            "| V444_6|    PORT08|         PORT09|             20.0|             25.0|        DTD|       43.0|1.32|            AIR|                2|V88888888_0|\n",
            "| V444_6|    PORT08|         PORT09|             40.0|             45.0|        DTD|       43.0|0.98|            AIR|                2|V88888888_0|\n",
            "| V444_6|    PORT08|         PORT09|             15.0|             20.0|        DTD|       43.0|1.59|            AIR|                2|V88888888_0|\n",
            "| V444_6|    PORT10|         PORT09|             65.0|             70.0|        DTD|       43.0|0.75|            AIR|                2|V88888888_0|\n",
            "+-------+----------+---------------+-----------------+-----------------+-----------+-----------+----+---------------+-----------------+-----------+\n",
            "only showing top 20 rows\n",
            "\n"
          ]
        }
      ]
    },
    {
      "cell_type": "code",
      "source": [
        "# delta format\n",
        "\n",
        "delta_path = '/content/transformed_data/orderlist.delta'\n",
        "OrderList_df.write.format(\"delta\").save(delta_path)\n",
        "\n",
        "delta_df = spark.read.format(\"delta\").load(delta_path)\n",
        "delta_df.show()\n"
      ],
      "metadata": {
        "colab": {
          "base_uri": "https://localhost:8080/"
        },
        "id": "dnSDx6P36R2S",
        "outputId": "81bb5dc3-4b39-47b5-e996-79935e2cc429"
      },
      "execution_count": 39,
      "outputs": [
        {
          "output_type": "stream",
          "name": "stdout",
          "text": [
            "+----------+----------+----------+-------+---+------------+-----------------+----------------+---------+---------+---------+---------------+------------+------+\n",
            "|   OrderID| OrderDate|OriginPort|Carrier|TPT|ServiceLevel|ShipAheadDayCount|ShipLateDayCount| Customer|ProductID|PlantCode|DestinationPort|UnitQuantity|Weight|\n",
            "+----------+----------+----------+-------+---+------------+-----------------+----------------+---------+---------+---------+---------------+------------+------+\n",
            "|1447296446|2013-05-26|    PORT09|  V44_3|  1|         CRF|                3|               0|V55555_53|  1700106|  PLANT16|         PORT09|         808|  14.3|\n",
            "|1447158014|2013-05-26|    PORT09|  V44_3|  1|         CRF|                3|               0|V55555_53|  1700106|  PLANT16|         PORT09|        3188| 87.94|\n",
            "|1447138898|2013-05-26|    PORT09|  V44_3|  1|         CRF|                3|               0|V55555_53|  1700106|  PLANT16|         PORT09|        2331|  61.2|\n",
            "|1447363527|2013-05-26|    PORT09|  V44_3|  1|         CRF|                3|               0|V55555_53|  1700106|  PLANT16|         PORT09|         847| 16.16|\n",
            "|1447363980|2013-05-26|    PORT09|  V44_3|  1|         CRF|                3|               0|V55555_53|  1700106|  PLANT16|         PORT09|        2163| 52.34|\n",
            "|1447351440|2013-05-26|    PORT09|  V44_3|  1|         CRF|                3|               0|V55555_53|  1700106|  PLANT16|         PORT09|        3332|  92.8|\n",
            "|1447320235|2013-05-26|    PORT09|  V44_3|  1|         CRF|                3|               0|V55555_53|  1700106|  PLANT16|         PORT09|        1782|  46.9|\n",
            "|1447158018|2013-05-26|    PORT09|  V44_3|  1|         CRF|                3|               0|V55555_53|  1700106|  PLANT16|         PORT09|         427|  2.86|\n",
            "|1447219340|2013-05-26|    PORT09|  V44_3|  1|         CRF|                3|               0|V55555_53|  1700106|  PLANT16|         PORT09|        1291|  26.6|\n",
            "|1447398415|2013-05-26|    PORT09|  V44_3|  1|         CRF|                3|               0|V55555_53|  1700106|  PLANT16|         PORT09|        2294|  62.2|\n",
            "|1447381678|2013-05-26|    PORT09|  V44_3|  1|         CRF|                3|               0|V55555_53|  1700106|  PLANT16|         PORT09|        2766|  75.5|\n",
            "|1447170784|2013-05-26|    PORT09|  V44_3|  1|         CRF|                3|               0|V55555_53|  1700106|  PLANT16|         PORT09|         798|  14.3|\n",
            "|1447155055|2013-05-26|    PORT09|  V44_3|  1|         CRF|                3|               0|V55555_53|  1697884|  PLANT16|         PORT09|         739|  73.9|\n",
            "|1447257264|2013-05-26|    PORT09|  V44_3|  1|         CRF|                3|               0|V55555_53|  1697884|  PLANT16|         PORT09|         280|   7.8|\n",
            "|1447240988|2013-05-26|    PORT09|  V44_3|  1|         CRF|                3|               0|V55555_53|  1697884|  PLANT16|         PORT09|         574|  59.5|\n",
            "|1447257230|2013-05-26|    PORT09|  V44_3|  1|         CRF|                3|               0|V55555_53|  1697884|  PLANT16|         PORT09|         556|  52.7|\n",
            "|1447260652|2013-05-26|    PORT09|  V44_3|  1|         CRF|                3|               0|V55555_53|  1697884|  PLANT16|         PORT09|         544|  58.5|\n",
            "|1447139374|2013-05-26|    PORT09|  V44_3|  1|         CRF|                3|               0|V55555_53|  1697884|  PLANT16|         PORT09|        1151| 181.7|\n",
            "|1447308589|2013-05-26|    PORT09|  V44_3|  1|         CRF|                3|               0|V55555_53|  1697884|  PLANT16|         PORT09|        1404| 227.2|\n",
            "|1447191270|2013-05-26|    PORT09|  V44_3|  1|         CRF|                3|               0|V55555_53|  1697884|  PLANT16|         PORT09|         662|  74.1|\n",
            "+----------+----------+----------+-------+---+------------+-----------------+----------------+---------+---------+---------+---------------+------------+------+\n",
            "only showing top 20 rows\n",
            "\n"
          ]
        }
      ]
    },
    {
      "cell_type": "code",
      "source": [
        "# delta format\n",
        "\n",
        "delta_path = '/content/transformed_data/plantports.delta'\n",
        "plantports_df.write.format(\"delta\").save(delta_path)\n",
        "\n",
        "delta_df = spark.read.format(\"delta\").load(delta_path)\n",
        "delta_df.show()\n"
      ],
      "metadata": {
        "colab": {
          "base_uri": "https://localhost:8080/"
        },
        "id": "RCDAmVSt9N7p",
        "outputId": "1e4ccd6e-d0a4-4e5c-9862-692ef204e798"
      },
      "execution_count": 40,
      "outputs": [
        {
          "output_type": "stream",
          "name": "stdout",
          "text": [
            "+---------+------+\n",
            "|PlantCode|  Port|\n",
            "+---------+------+\n",
            "|  PLANT01|PORT01|\n",
            "|  PLANT01|PORT02|\n",
            "|  PLANT02|PORT03|\n",
            "|  PLANT03|PORT04|\n",
            "|  PLANT04|PORT05|\n",
            "|  PLANT05|PORT06|\n",
            "|  PLANT06|PORT06|\n",
            "|  PLANT07|PORT01|\n",
            "|  PLANT07|PORT02|\n",
            "|  PLANT08|PORT04|\n",
            "|  PLANT09|PORT04|\n",
            "|  PLANT10|PORT01|\n",
            "|  PLANT10|PORT02|\n",
            "|  PLANT11|PORT04|\n",
            "|  PLANT12|PORT04|\n",
            "|  PLANT13|PORT04|\n",
            "|  PLANT14|PORT07|\n",
            "|  PLANT15|PORT08|\n",
            "|  PLANT16|PORT09|\n",
            "|  PLANT17|PORT10|\n",
            "+---------+------+\n",
            "only showing top 20 rows\n",
            "\n"
          ]
        }
      ]
    },
    {
      "cell_type": "code",
      "source": [
        "# delta format\n",
        "\n",
        "delta_path = '/content/transformed_data/plantproducts.delta'\n",
        "plantproducts_df.write.format(\"delta\").save(delta_path)\n",
        "\n",
        "delta_df = spark.read.format(\"delta\").load(delta_path)\n",
        "delta_df.show()\n"
      ],
      "metadata": {
        "colab": {
          "base_uri": "https://localhost:8080/"
        },
        "id": "ZkwLMv_A9Dz4",
        "outputId": "2be72abb-2584-4b5d-b9ab-0f468fc3dacd"
      },
      "execution_count": 42,
      "outputs": [
        {
          "output_type": "stream",
          "name": "stdout",
          "text": [
            "+---------+---------+\n",
            "|PlantCode|ProductID|\n",
            "+---------+---------+\n",
            "|  PLANT15|  1698815|\n",
            "|  PLANT17|  1664419|\n",
            "|  PLANT17|  1664426|\n",
            "|  PLANT17|  1672826|\n",
            "|  PLANT17|  1674916|\n",
            "|  PLANT17|  1674918|\n",
            "|  PLANT17|  1675507|\n",
            "|  PLANT17|  1676151|\n",
            "|  PLANT17|  1676152|\n",
            "|  PLANT17|  1677864|\n",
            "|  PLANT17|  1677865|\n",
            "|  PLANT17|  1679124|\n",
            "|  PLANT17|  1685369|\n",
            "|  PLANT17|  1685370|\n",
            "|  PLANT17|  1685378|\n",
            "|  PLANT17|  1685979|\n",
            "|  PLANT17|  1691969|\n",
            "|  PLANT17|  1694139|\n",
            "|  PLANT17|  1694217|\n",
            "|  PLANT17|  1696107|\n",
            "+---------+---------+\n",
            "only showing top 20 rows\n",
            "\n"
          ]
        }
      ]
    },
    {
      "cell_type": "code",
      "source": [
        "# delta format\n",
        "\n",
        "delta_path = '/content/transformed_data/plantcustomers.delta'\n",
        "plantcustomers_df.write.format(\"delta\").save(delta_path)\n",
        "\n",
        "delta_df = spark.read.format(\"delta\").load(delta_path)\n",
        "delta_df.show()\n"
      ],
      "metadata": {
        "colab": {
          "base_uri": "https://localhost:8080/"
        },
        "id": "MaW9PDT6-EHT",
        "outputId": "205d5e14-abb7-41e0-b0a0-99c65d20619c"
      },
      "execution_count": 43,
      "outputs": [
        {
          "output_type": "stream",
          "name": "stdout",
          "text": [
            "+---------+--------------------+\n",
            "|PlantCode|            Customer|\n",
            "+---------+--------------------+\n",
            "|  PLANT02|   V5555555555555_16|\n",
            "|  PLANT02| V555555555555555_29|\n",
            "|  PLANT02|        V555555555_3|\n",
            "|  PLANT02|   V55555555555555_8|\n",
            "|  PLANT02|         V55555555_9|\n",
            "|  PLANT02|           V55555_10|\n",
            "|  PLANT02|         V55555555_5|\n",
            "|  PLANT06| V555555555555555_18|\n",
            "|  PLANT06|           V55555_10|\n",
            "|  PLANT10| V555555555555555_29|\n",
            "|  PLANT10|          V555555_34|\n",
            "|  PLANT10|V5555555555555555...|\n",
            "|  PLANT10|           V55555_10|\n",
            "|  PLANT11|V5555555555555555...|\n",
            "+---------+--------------------+\n",
            "\n"
          ]
        }
      ]
    },
    {
      "cell_type": "code",
      "source": [
        "# delta format\n",
        "\n",
        "delta_path = '/content/transformed_data/plantcapacities.delta'\n",
        "plantcapacities_df.write.format(\"delta\").save(delta_path)\n",
        "\n",
        "delta_df = spark.read.format(\"delta\").load(delta_path)\n",
        "delta_df.show()\n"
      ],
      "metadata": {
        "colab": {
          "base_uri": "https://localhost:8080/"
        },
        "id": "s36ZIVcX-yzo",
        "outputId": "85e054d7-264c-4645-d210-19df10bb94ee"
      },
      "execution_count": 44,
      "outputs": [
        {
          "output_type": "stream",
          "name": "stdout",
          "text": [
            "+---------+-------------+\n",
            "|PlantCode|DailyCapacity|\n",
            "+---------+-------------+\n",
            "|  PLANT15|           11|\n",
            "|  PLANT17|            8|\n",
            "|  PLANT18|          111|\n",
            "|  PLANT05|          385|\n",
            "|  PLANT02|          138|\n",
            "|  PLANT01|         1070|\n",
            "|  PLANT06|           49|\n",
            "|  PLANT10|          118|\n",
            "|  PLANT07|          265|\n",
            "|  PLANT14|          549|\n",
            "|  PLANT16|          457|\n",
            "|  PLANT12|          209|\n",
            "|  PLANT11|          332|\n",
            "|  PLANT09|           11|\n",
            "|  PLANT03|         1013|\n",
            "|  PLANT13|          490|\n",
            "|  PLANT19|            7|\n",
            "|  PLANT08|           14|\n",
            "|  PLANT04|          554|\n",
            "+---------+-------------+\n",
            "\n"
          ]
        }
      ]
    },
    {
      "cell_type": "code",
      "source": [
        "# delta format\n",
        "\n",
        "delta_path = '/content/transformed_data/plantcost.delta'\n",
        "plantcost_df.write.format(\"delta\").save(delta_path)\n",
        "\n",
        "delta_df = spark.read.format(\"delta\").load(delta_path)\n",
        "delta_df.show()\n"
      ],
      "metadata": {
        "colab": {
          "base_uri": "https://localhost:8080/"
        },
        "id": "8RNKLcWv_A1S",
        "outputId": "0f714b87-3fde-4f0b-9d73-a0165e15d721"
      },
      "execution_count": 45,
      "outputs": [
        {
          "output_type": "stream",
          "name": "stdout",
          "text": [
            "+---------+-----------+\n",
            "|PlantCode|CostPerUnit|\n",
            "+---------+-----------+\n",
            "|  PLANT15|     1.4151|\n",
            "|  PLANT17|     0.4289|\n",
            "|  PLANT18|     2.0363|\n",
            "|  PLANT05|     0.4881|\n",
            "|  PLANT02|     0.4775|\n",
            "|  PLANT01|      0.567|\n",
            "|  PLANT06|     0.5541|\n",
            "|  PLANT10|     0.4936|\n",
            "|  PLANT07|     0.3714|\n",
            "|  PLANT14|     0.6343|\n",
            "|  PLANT16|     1.9198|\n",
            "|  PLANT12|     0.7731|\n",
            "|  PLANT11|     0.5552|\n",
            "|  PLANT09|     0.4651|\n",
            "|  PLANT03|     0.5175|\n",
            "|  PLANT13|     0.4697|\n",
            "|  PLANT19|     0.6398|\n",
            "|  PLANT08|     0.5229|\n",
            "|  PLANT04|     0.4285|\n",
            "+---------+-----------+\n",
            "\n"
          ]
        }
      ]
    },
    {
      "cell_type": "code",
      "source": [
        "# Check the history of the Delta table\n",
        "\n",
        "delta_table_history = spark.sql(f\"DESCRIBE HISTORY '/content/transformed_data/plantcapacities.delta'\")\n",
        "delta_table_history.show(truncate=False)\n",
        "print('History displayed')\n",
        "\n",
        "spark.sql(\"VACUUM '/content/transformed_data/plantcapacities.delta' RETAIN 168 HOURS\")\n",
        "print('Did vacuum operation')"
      ],
      "metadata": {
        "colab": {
          "base_uri": "https://localhost:8080/"
        },
        "id": "AQKBfDCF_JVy",
        "outputId": "8e0519a3-d231-4d61-bfa6-8cc818224be9"
      },
      "execution_count": 46,
      "outputs": [
        {
          "output_type": "stream",
          "name": "stdout",
          "text": [
            "+-------+-----------------------+------+--------+---------+------------------------------------------+----+--------+---------+-----------+--------------+-------------+-----------------------------------------------------------+------------+-----------------------------------+\n",
            "|version|timestamp              |userId|userName|operation|operationParameters                       |job |notebook|clusterId|readVersion|isolationLevel|isBlindAppend|operationMetrics                                           |userMetadata|engineInfo                         |\n",
            "+-------+-----------------------+------+--------+---------+------------------------------------------+----+--------+---------+-----------+--------------+-------------+-----------------------------------------------------------+------------+-----------------------------------+\n",
            "|0      |2024-09-27 10:17:54.971|NULL  |NULL    |WRITE    |{mode -> ErrorIfExists, partitionBy -> []}|NULL|NULL    |NULL     |NULL       |Serializable  |true         |{numFiles -> 1, numOutputRows -> 19, numOutputBytes -> 903}|NULL        |Apache-Spark/3.5.3 Delta-Lake/3.2.1|\n",
            "+-------+-----------------------+------+--------+---------+------------------------------------------+----+--------+---------+-----------+--------------+-------------+-----------------------------------------------------------+------------+-----------------------------------+\n",
            "\n",
            "History displayed\n",
            "Did vacuum operation\n"
          ]
        }
      ]
    },
    {
      "cell_type": "code",
      "source": [
        "spark.sql(\"OPTIMIZE delta.`/content/transformed_data/orderlist.delta` ZORDER BY (ProductID)\")\n",
        "print('DATA OPTIMIZED')"
      ],
      "metadata": {
        "colab": {
          "base_uri": "https://localhost:8080/"
        },
        "id": "scEItgWQChxe",
        "outputId": "19bd6ca2-c659-48d5-a949-d3354bbf8abe"
      },
      "execution_count": 49,
      "outputs": [
        {
          "output_type": "stream",
          "name": "stdout",
          "text": [
            "DATA OPTIMIZED\n"
          ]
        }
      ]
    },
    {
      "cell_type": "code",
      "source": [
        "\n",
        "time_travel = spark.read.format(\"delta\").option(\"versionAsOf\", 0).load('/content/transformed_data/orderlist.delta')\n",
        "time_travel.show()\n"
      ],
      "metadata": {
        "colab": {
          "base_uri": "https://localhost:8080/"
        },
        "id": "VvY06r-vC3nd",
        "outputId": "98a16ae9-0615-4c91-d4ab-2da1d18b6f35"
      },
      "execution_count": 50,
      "outputs": [
        {
          "output_type": "stream",
          "name": "stdout",
          "text": [
            "+----------+----------+----------+-------+---+------------+-----------------+----------------+---------+---------+---------+---------------+------------+------+\n",
            "|   OrderID| OrderDate|OriginPort|Carrier|TPT|ServiceLevel|ShipAheadDayCount|ShipLateDayCount| Customer|ProductID|PlantCode|DestinationPort|UnitQuantity|Weight|\n",
            "+----------+----------+----------+-------+---+------------+-----------------+----------------+---------+---------+---------+---------------+------------+------+\n",
            "|1447296446|2013-05-26|    PORT09|  V44_3|  1|         CRF|                3|               0|V55555_53|  1700106|  PLANT16|         PORT09|         808|  14.3|\n",
            "|1447158014|2013-05-26|    PORT09|  V44_3|  1|         CRF|                3|               0|V55555_53|  1700106|  PLANT16|         PORT09|        3188| 87.94|\n",
            "|1447138898|2013-05-26|    PORT09|  V44_3|  1|         CRF|                3|               0|V55555_53|  1700106|  PLANT16|         PORT09|        2331|  61.2|\n",
            "|1447363527|2013-05-26|    PORT09|  V44_3|  1|         CRF|                3|               0|V55555_53|  1700106|  PLANT16|         PORT09|         847| 16.16|\n",
            "|1447363980|2013-05-26|    PORT09|  V44_3|  1|         CRF|                3|               0|V55555_53|  1700106|  PLANT16|         PORT09|        2163| 52.34|\n",
            "|1447351440|2013-05-26|    PORT09|  V44_3|  1|         CRF|                3|               0|V55555_53|  1700106|  PLANT16|         PORT09|        3332|  92.8|\n",
            "|1447320235|2013-05-26|    PORT09|  V44_3|  1|         CRF|                3|               0|V55555_53|  1700106|  PLANT16|         PORT09|        1782|  46.9|\n",
            "|1447158018|2013-05-26|    PORT09|  V44_3|  1|         CRF|                3|               0|V55555_53|  1700106|  PLANT16|         PORT09|         427|  2.86|\n",
            "|1447219340|2013-05-26|    PORT09|  V44_3|  1|         CRF|                3|               0|V55555_53|  1700106|  PLANT16|         PORT09|        1291|  26.6|\n",
            "|1447398415|2013-05-26|    PORT09|  V44_3|  1|         CRF|                3|               0|V55555_53|  1700106|  PLANT16|         PORT09|        2294|  62.2|\n",
            "|1447381678|2013-05-26|    PORT09|  V44_3|  1|         CRF|                3|               0|V55555_53|  1700106|  PLANT16|         PORT09|        2766|  75.5|\n",
            "|1447170784|2013-05-26|    PORT09|  V44_3|  1|         CRF|                3|               0|V55555_53|  1700106|  PLANT16|         PORT09|         798|  14.3|\n",
            "|1447155055|2013-05-26|    PORT09|  V44_3|  1|         CRF|                3|               0|V55555_53|  1697884|  PLANT16|         PORT09|         739|  73.9|\n",
            "|1447257264|2013-05-26|    PORT09|  V44_3|  1|         CRF|                3|               0|V55555_53|  1697884|  PLANT16|         PORT09|         280|   7.8|\n",
            "|1447240988|2013-05-26|    PORT09|  V44_3|  1|         CRF|                3|               0|V55555_53|  1697884|  PLANT16|         PORT09|         574|  59.5|\n",
            "|1447257230|2013-05-26|    PORT09|  V44_3|  1|         CRF|                3|               0|V55555_53|  1697884|  PLANT16|         PORT09|         556|  52.7|\n",
            "|1447260652|2013-05-26|    PORT09|  V44_3|  1|         CRF|                3|               0|V55555_53|  1697884|  PLANT16|         PORT09|         544|  58.5|\n",
            "|1447139374|2013-05-26|    PORT09|  V44_3|  1|         CRF|                3|               0|V55555_53|  1697884|  PLANT16|         PORT09|        1151| 181.7|\n",
            "|1447308589|2013-05-26|    PORT09|  V44_3|  1|         CRF|                3|               0|V55555_53|  1697884|  PLANT16|         PORT09|        1404| 227.2|\n",
            "|1447191270|2013-05-26|    PORT09|  V44_3|  1|         CRF|                3|               0|V55555_53|  1697884|  PLANT16|         PORT09|         662|  74.1|\n",
            "+----------+----------+----------+-------+---+------------+-----------------+----------------+---------+---------+---------+---------------+------------+------+\n",
            "only showing top 20 rows\n",
            "\n"
          ]
        }
      ]
    },
    {
      "cell_type": "code",
      "source": [
        "# to download completely in a zip file\n",
        "import shutil\n",
        "from google.colab import files\n",
        "\n",
        "folder_path = '/content/new_data'\n",
        "zip_file_path = '/content/new_data.zip'\n",
        "\n",
        "# Create a ZIP archive of the folder\n",
        "shutil.make_archive(zip_file_path.replace('.zip', ''), 'zip', folder_path)\n",
        "files.download(zip_file_path)"
      ],
      "metadata": {
        "colab": {
          "base_uri": "https://localhost:8080/",
          "height": 17
        },
        "id": "1Ay9OEHfAS4a",
        "outputId": "05112388-6c65-46fe-8ed0-105023ea19e1"
      },
      "execution_count": 48,
      "outputs": [
        {
          "output_type": "display_data",
          "data": {
            "text/plain": [
              "<IPython.core.display.Javascript object>"
            ],
            "application/javascript": [
              "\n",
              "    async function download(id, filename, size) {\n",
              "      if (!google.colab.kernel.accessAllowed) {\n",
              "        return;\n",
              "      }\n",
              "      const div = document.createElement('div');\n",
              "      const label = document.createElement('label');\n",
              "      label.textContent = `Downloading \"${filename}\": `;\n",
              "      div.appendChild(label);\n",
              "      const progress = document.createElement('progress');\n",
              "      progress.max = size;\n",
              "      div.appendChild(progress);\n",
              "      document.body.appendChild(div);\n",
              "\n",
              "      const buffers = [];\n",
              "      let downloaded = 0;\n",
              "\n",
              "      const channel = await google.colab.kernel.comms.open(id);\n",
              "      // Send a message to notify the kernel that we're ready.\n",
              "      channel.send({})\n",
              "\n",
              "      for await (const message of channel.messages) {\n",
              "        // Send a message to notify the kernel that we're ready.\n",
              "        channel.send({})\n",
              "        if (message.buffers) {\n",
              "          for (const buffer of message.buffers) {\n",
              "            buffers.push(buffer);\n",
              "            downloaded += buffer.byteLength;\n",
              "            progress.value = downloaded;\n",
              "          }\n",
              "        }\n",
              "      }\n",
              "      const blob = new Blob(buffers, {type: 'application/binary'});\n",
              "      const a = document.createElement('a');\n",
              "      a.href = window.URL.createObjectURL(blob);\n",
              "      a.download = filename;\n",
              "      div.appendChild(a);\n",
              "      a.click();\n",
              "      div.remove();\n",
              "    }\n",
              "  "
            ]
          },
          "metadata": {}
        },
        {
          "output_type": "display_data",
          "data": {
            "text/plain": [
              "<IPython.core.display.Javascript object>"
            ],
            "application/javascript": [
              "download(\"download_7ad5e225-bd50-4948-80e0-284e281e6bd4\", \"new_data.zip\", 22)"
            ]
          },
          "metadata": {}
        }
      ]
    }
  ]
}
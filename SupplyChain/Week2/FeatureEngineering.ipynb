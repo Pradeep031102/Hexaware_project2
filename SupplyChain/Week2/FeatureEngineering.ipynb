{
  "nbformat": 4,
  "nbformat_minor": 0,
  "metadata": {
    "colab": {
      "provenance": []
    },
    "kernelspec": {
      "name": "python3",
      "display_name": "Python 3"
    },
    "language_info": {
      "name": "python"
    }
  },
  "cells": [
    {
      "cell_type": "markdown",
      "source": [
        "CarrierRates:"
      ],
      "metadata": {
        "id": "us7Xz_tcmYKi"
      }
    },
    {
      "cell_type": "code",
      "execution_count": 5,
      "metadata": {
        "colab": {
          "base_uri": "https://localhost:8080/"
        },
        "id": "KDXACcb8iOcV",
        "outputId": "e1231762-e926-4872-9318-6323e6d881fc"
      },
      "outputs": [
        {
          "output_type": "stream",
          "name": "stdout",
          "text": [
            "     Carrier OriginPort DestinationPort  MinWeightQuantity  MaxWeightQuantity  \\\n",
            "0     V444_6     PORT08          PORT09              250.0             499.99   \n",
            "1     V444_6     PORT08          PORT09               65.0              69.99   \n",
            "2     V444_6     PORT08          PORT09               60.0              64.99   \n",
            "3     V444_6     PORT08          PORT09               50.0              54.99   \n",
            "4     V444_6     PORT08          PORT09               35.0              39.99   \n",
            "...      ...        ...             ...                ...                ...   \n",
            "1535  V444_8     PORT03          PORT09                0.0              99.99   \n",
            "1536  V444_8     PORT03          PORT09              500.0            1999.99   \n",
            "1537  V444_8     PORT03          PORT09              250.0             499.99   \n",
            "1538  V444_8     PORT03          PORT09             2000.0           99999.99   \n",
            "1539  V444_8     PORT03          PORT09              100.0             249.99   \n",
            "\n",
            "      MinimumCost    Rate  TransportDayCount  AvgWeight  CostPerUnitWeight  \\\n",
            "0         43.2272  0.7132                  2    374.995           0.115274   \n",
            "1         43.2272  0.7512                  2     67.495           0.640450   \n",
            "2         43.2272  0.7892                  2     62.495           0.691691   \n",
            "3         43.2272  0.8272                  2     52.495           0.823454   \n",
            "4         43.2272  1.0552                  2     37.495           1.152879   \n",
            "...           ...     ...                ...        ...                ...   \n",
            "1535      29.3392  0.4116                  0     49.995           0.586843   \n",
            "1536      29.3392  0.3112                  0   1249.995           0.023471   \n",
            "1537      29.3392  0.4116                  0    374.995           0.078239   \n",
            "1538      29.3392  0.3112                  0  50999.995           0.000575   \n",
            "1539      29.3392  0.4116                  0    174.995           0.167657   \n",
            "\n",
            "      ServiceCode_DTP  ModeDescription_GROUND  CarrierType_V88888888_0  \\\n",
            "0               False                   False                     True   \n",
            "1               False                   False                     True   \n",
            "2               False                   False                     True   \n",
            "3               False                   False                     True   \n",
            "4               False                   False                     True   \n",
            "...               ...                     ...                      ...   \n",
            "1535            False                   False                     True   \n",
            "1536            False                   False                     True   \n",
            "1537            False                   False                     True   \n",
            "1538            False                   False                     True   \n",
            "1539            False                   False                     True   \n",
            "\n",
            "      NormalizedRate  NormalizedMinimumCost  Rate_DayInteraction  \n",
            "0           0.005313               0.099157               1.4264  \n",
            "1           0.005610               0.099157               1.5024  \n",
            "2           0.005907               0.099157               1.5784  \n",
            "3           0.006203               0.099157               1.6544  \n",
            "4           0.007985               0.099157               2.1104  \n",
            "...              ...                    ...                  ...  \n",
            "1535        0.002956               0.066389               0.0000  \n",
            "1536        0.002172               0.066389               0.0000  \n",
            "1537        0.002956               0.066389               0.0000  \n",
            "1538        0.002172               0.066389               0.0000  \n",
            "1539        0.002956               0.066389               0.0000  \n",
            "\n",
            "[1540 rows x 16 columns]\n"
          ]
        }
      ],
      "source": [
        "import pandas as pd\n",
        "\n",
        "df = pd.read_csv(\"/content/raw_data/CarrierRates.csv\")\n",
        "\n",
        "df['AvgWeight'] = (df['MinWeightQuantity'] + df['MaxWeightQuantity']) / 2\n",
        "\n",
        "df['CostPerUnitWeight'] = df['MinimumCost'] / df['AvgWeight']\n",
        "\n",
        "df = pd.get_dummies(df, columns=['ServiceCode', 'ModeDescription', 'CarrierType'], drop_first=True)\n",
        "\n",
        "df['NormalizedRate'] = (df['Rate'] - df['Rate'].min()) / (df['Rate'].max() - df['Rate'].min())\n",
        "df['NormalizedMinimumCost'] = (df['MinimumCost'] - df['MinimumCost'].min()) / (df['MinimumCost'].max() - df['MinimumCost'].min())\n",
        "\n",
        "df['Rate_DayInteraction'] = df['Rate'] * df['TransportDayCount']\n",
        "\n",
        "print(df)\n",
        "\n",
        "df.to_csv(\"/content/transformed_data/transformed_CarrierRates.csv\", index=False)"
      ]
    },
    {
      "cell_type": "markdown",
      "source": [
        "OrderList:"
      ],
      "metadata": {
        "id": "CmVtX3Mhm0Wb"
      }
    },
    {
      "cell_type": "code",
      "source": [
        "import pandas as pd\n",
        "\n",
        "df = pd.read_csv(\"/content/raw_data/OrderList.csv\")\n",
        "\n",
        "df['OrderDate'] = pd.to_datetime(df['OrderDate'])\n",
        "\n",
        "df['Year'] = df['OrderDate'].dt.year\n",
        "df['Month'] = df['OrderDate'].dt.month\n",
        "df['DayOfWeek'] = df['OrderDate'].dt.dayofweek\n",
        "df['IsWeekend'] = df['DayOfWeek'].isin([5, 6]).astype(int)\n",
        "\n",
        "df['TotalProcessDays'] = df['ShipAheadDayCount'] + df['ShipLateDayCount']\n",
        "\n",
        "df['UnitWeight'] = df['Weight'] / df['UnitQuantity']\n",
        "\n",
        "df = pd.get_dummies(df, columns=['Carrier', 'ServiceLevel', 'OriginPort', 'DestinationPort', 'PlantCode'], drop_first=True)\n",
        "\n",
        "df['TPT_ShipAheadInteraction'] = df['TPT'] * df['ShipAheadDayCount']\n",
        "\n",
        "df['NormalizedUnitQuantity'] = (df['UnitQuantity'] - df['UnitQuantity'].min()) / (df['UnitQuantity'].max() - df['UnitQuantity'].min())\n",
        "df['NormalizedWeight'] = (df['Weight'] - df['Weight'].min()) / (df['Weight'].max() - df['Weight'].min())\n",
        "\n",
        "print(df)\n",
        "\n",
        "df.to_csv(\"/content/transformed_data/transformed_OrderList.csv\", index=False)"
      ],
      "metadata": {
        "colab": {
          "base_uri": "https://localhost:8080/"
        },
        "id": "IixiD8u5m3au",
        "outputId": "dbedb7cc-1f62-4286-fb4f-c34176ee3078"
      },
      "execution_count": 6,
      "outputs": [
        {
          "output_type": "stream",
          "name": "stdout",
          "text": [
            "           OrderID  OrderDate  TPT  ShipAheadDayCount  ShipLateDayCount  \\\n",
            "0     1.447296e+09 2013-05-26    1                  3                 0   \n",
            "1     1.447158e+09 2013-05-26    1                  3                 0   \n",
            "2     1.447139e+09 2013-05-26    1                  3                 0   \n",
            "3     1.447364e+09 2013-05-26    1                  3                 0   \n",
            "4     1.447364e+09 2013-05-26    1                  3                 0   \n",
            "...            ...        ...  ...                ...               ...   \n",
            "9210  1.447305e+09 2013-05-26    1                  5                 0   \n",
            "9211  1.447319e+09 2013-05-26    1                  5                 0   \n",
            "9212  1.447322e+09 2013-05-26    1                  5                 0   \n",
            "9213  1.447145e+09 2013-05-26    1                  5                 0   \n",
            "9214  1.447328e+09 2013-05-26    1                  5                 0   \n",
            "\n",
            "               Customer  ProductID  UnitQuantity     Weight  Year  ...  \\\n",
            "0             V55555_53    1700106           808  14.300000  2013  ...   \n",
            "1             V55555_53    1700106          3188  87.940000  2013  ...   \n",
            "2             V55555_53    1700106          2331  61.200000  2013  ...   \n",
            "3             V55555_53    1700106           847  16.160000  2013  ...   \n",
            "4             V55555_53    1700106          2163  52.340000  2013  ...   \n",
            "...                 ...        ...           ...        ...   ...  ...   \n",
            "9210  V55555555555555_8    1683388           339   2.354118  2013  ...   \n",
            "9211  V55555555555555_8    1683388           339   2.354118  2013  ...   \n",
            "9212  V55555555555555_8    1683388           245   0.294265  2013  ...   \n",
            "9213  V55555555555555_8    1683430           278   2.480000  2013  ...   \n",
            "9214  V55555555555555_8    1683424           317   1.960000  2013  ...   \n",
            "\n",
            "      OriginPort_PORT09  PlantCode_PLANT04  PlantCode_PLANT08  \\\n",
            "0                  True              False              False   \n",
            "1                  True              False              False   \n",
            "2                  True              False              False   \n",
            "3                  True              False              False   \n",
            "4                  True              False              False   \n",
            "...                 ...                ...                ...   \n",
            "9210              False              False              False   \n",
            "9211              False              False              False   \n",
            "9212              False              False              False   \n",
            "9213              False              False              False   \n",
            "9214              False              False              False   \n",
            "\n",
            "      PlantCode_PLANT09  PlantCode_PLANT12  PlantCode_PLANT13  \\\n",
            "0                 False              False              False   \n",
            "1                 False              False              False   \n",
            "2                 False              False              False   \n",
            "3                 False              False              False   \n",
            "4                 False              False              False   \n",
            "...                 ...                ...                ...   \n",
            "9210              False              False              False   \n",
            "9211              False              False              False   \n",
            "9212              False              False              False   \n",
            "9213              False              False              False   \n",
            "9214              False              False              False   \n",
            "\n",
            "      PlantCode_PLANT16  TPT_ShipAheadInteraction  NormalizedUnitQuantity  \\\n",
            "0                  True                         3                0.001020   \n",
            "1                  True                         3                0.005258   \n",
            "2                  True                         3                0.003732   \n",
            "3                  True                         3                0.001090   \n",
            "4                  True                         3                0.003433   \n",
            "...                 ...                       ...                     ...   \n",
            "9210              False                         5                0.000185   \n",
            "9211              False                         5                0.000185   \n",
            "9212              False                         5                0.000018   \n",
            "9213              False                         5                0.000077   \n",
            "9214              False                         5                0.000146   \n",
            "\n",
            "      NormalizedWeight  \n",
            "0             0.006115  \n",
            "1             0.037607  \n",
            "2             0.026172  \n",
            "3             0.006911  \n",
            "4             0.022383  \n",
            "...                ...  \n",
            "9210          0.001007  \n",
            "9211          0.001007  \n",
            "9212          0.000126  \n",
            "9213          0.001061  \n",
            "9214          0.000838  \n",
            "\n",
            "[9215 rows x 30 columns]\n"
          ]
        }
      ]
    }
  ]
}